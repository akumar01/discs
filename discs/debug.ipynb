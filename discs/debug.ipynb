{
 "cells": [
  {
   "cell_type": "code",
   "execution_count": 1,
   "metadata": {},
   "outputs": [],
   "source": [
    "%load_ext autoreload\n",
    "%autoreload 2"
   ]
  },
  {
   "cell_type": "code",
   "execution_count": 2,
   "metadata": {},
   "outputs": [],
   "source": [
    "import pdb\n",
    "from discs.common import math_util as math\n",
    "from discs.samplers import locallybalanced\n",
    "import jax\n",
    "import numpy as np\n",
    "from copy import deepcopy\n",
    "import jax.numpy as jnp\n",
    "import sys\n",
    "import ml_collections\n",
    "from tqdm import tqdm"
   ]
  },
  {
   "cell_type": "code",
   "execution_count": 3,
   "metadata": {},
   "outputs": [],
   "source": [
    "from discs.samplers.mixed import BlockGibbsSampler, HMCWrapper\n",
    "from discs.models import abstractmodel\n",
    "from discs.common import configs as common_configs"
   ]
  },
  {
   "cell_type": "code",
   "execution_count": 4,
   "metadata": {},
   "outputs": [],
   "source": [
    "sys.path.append('/Users/ankitkumar/nse/network_control')"
   ]
  },
  {
   "cell_type": "code",
   "execution_count": 5,
   "metadata": {},
   "outputs": [],
   "source": [
    "import ergm_jax\n",
    "from discs.samplers.dlmc import BinaryDLMC\n",
    "from discs.samplers.configs import dlmc_config"
   ]
  },
  {
   "cell_type": "markdown",
   "metadata": {},
   "source": [
    "### Testing HMC Wrapper"
   ]
  },
  {
   "cell_type": "code",
   "execution_count": 6,
   "metadata": {},
   "outputs": [],
   "source": [
    "# Configuration for HMC/NUTS Wrapper \n",
    "config = common_configs.get_config()\n",
    "# model_config = config_dict.ConfigDict(model_config)\n",
    "# config.model.update(model_config)\n",
    "#sampler_config = {'step_size':5, 'integrator': leapfrog, 'path_len':4, 'tune':0}\n",
    "sampler_config = {'step_size':1e-1}\n",
    "sampler_config = ml_collections.ConfigDict(sampler_config)\n",
    "config.sampler.update(sampler_config)"
   ]
  },
  {
   "cell_type": "code",
   "execution_count": 7,
   "metadata": {},
   "outputs": [],
   "source": [
    "dim = 10\n",
    "burnin = 100\n",
    "chain_length = 500\n",
    "n_chains = 3"
   ]
  },
  {
   "cell_type": "code",
   "execution_count": 8,
   "metadata": {},
   "outputs": [],
   "source": [
    "# Sampling loop\n",
    "rnd = jax.random.PRNGKey(4)\n",
    "init_rng, step_rng, model_rng = jax.random.split(rnd, 3)\n",
    "model = ergm_jax.Gaussian(10)\n",
    "model_params = model.make_init_params(model_rng)\n",
    "sample_init_rng, sampler_init_rng = jax.random.split(init_rng, 2)\n",
    "x = model.get_init_samples(sample_init_rng, n_chains)\n",
    "sampler = HMCWrapper(config, model, model_params)\n",
    "sampler_state = sampler.make_init_state(sampler_init_rng, x)\n",
    "samples = []"
   ]
  },
  {
   "cell_type": "code",
   "execution_count": 9,
   "metadata": {},
   "outputs": [],
   "source": [
    "# Is the mask implementation zeroing out the log prob gradient?"
   ]
  },
  {
   "cell_type": "code",
   "execution_count": 10,
   "metadata": {},
   "outputs": [
    {
     "data": {
      "text/plain": [
       "(Array([-9.704621 , -5.9627075, -8.972922 ], dtype=float32),\n",
       " Array([[-0.82199687,  0.        , -0.34370762,  0.        ,  2.6400461 ,\n",
       "          0.        ,  1.9081315 ,  0.        , -1.9062486 , -0.        ],\n",
       "        [-1.8160597 ,  0.        , -0.81580585,  0.        ,  1.7433207 ,\n",
       "          0.        ,  0.7380365 ,  0.        ,  0.08427978, -0.        ],\n",
       "        [-1.7859294 ,  0.        , -0.83835304,  0.        ,  2.0086946 ,\n",
       "          0.        ,  2.369164  ,  0.        ,  0.18665051, -0.        ]],      dtype=float32))"
      ]
     },
     "execution_count": 10,
     "metadata": {},
     "output_type": "execute_result"
    }
   ],
   "source": [
    "xmask = jnp.tile(jnp.array([1, 0, 1, 0, 1, 0, 1, 0, 1, 0]), (3, 1))\n",
    "model.get_value_and_grad(model_params, x, xmask)"
   ]
  },
  {
   "cell_type": "code",
   "execution_count": 25,
   "metadata": {},
   "outputs": [
    {
     "name": "stderr",
     "output_type": "stream",
     "text": [
      "100%|██████████| 600/600 [00:30<00:00, 19.90it/s]\n"
     ]
    }
   ],
   "source": [
    "# test the use of a mask\n",
    "for idx in tqdm(range(burnin + chain_length)):\n",
    "    #x_old = deepcopy(x)\n",
    "    step_rng_, step_rng = jax.random.split(step_rng, 2)\n",
    "    x, sampler_state, _ = sampler.step(model, step_rng_, x, model_params, sampler_state, xmask)\n",
    "    # if idx % 100 == 0:\n",
    "    #     print(sampler_state['p_accept'])\n",
    "    if idx > burnin:\n",
    "        samples.append(x)\n",
    "        #print(x-x_old)"
   ]
  },
  {
   "cell_type": "code",
   "execution_count": 37,
   "metadata": {},
   "outputs": [
    {
     "data": {
      "text/plain": [
       "dict_keys(['num_ll_calls', 'steps', 'index', 'accepted_results', 'is_accepted', 'log_accept_ratio', 'proposed_state', 'proposed_results', 'extra', 'seed'])"
      ]
     },
     "execution_count": 37,
     "metadata": {},
     "output_type": "execute_result"
    }
   ],
   "source": [
    "sampler_state.keys()"
   ]
  },
  {
   "cell_type": "code",
   "execution_count": 36,
   "metadata": {},
   "outputs": [
    {
     "data": {
      "text/plain": [
       "{'num_ll_calls': Array(0, dtype=int32),\n",
       " 'steps': Array(0, dtype=int32),\n",
       " 'index': Array(0, dtype=int32),\n",
       " 'accepted_results': UncalibratedHamiltonianMonteCarloKernelResults(\n",
       "   log_acceptance_correction=Array(0., dtype=float32),\n",
       "   target_log_prob=Array(-40.102097, dtype=float32),\n",
       "   grads_target_log_prob=[Array([[-0.82199687,  1.474191  , -0.34370762,  3.8726501 ,  2.6400461 ,\n",
       "             -0.5938172 ,  1.9081315 ,  0.33985704, -1.9062486 , -3.3789067 ],\n",
       "            [-1.8160597 ,  0.04224145, -0.81580585,  2.4222043 ,  1.7433207 ,\n",
       "              0.40339226,  0.7380365 ,  0.07806851,  0.08427978, -1.7560818 ],\n",
       "            [-1.7859294 ,  0.33613083, -0.83835304,  2.3277597 ,  2.0086946 ,\n",
       "             -0.48197478,  2.369164  , -0.06954838,  0.18665051,  0.30052185]],      dtype=float32)],\n",
       "   initial_momentum=[Array([[0., 0., 0., 0., 0., 0., 0., 0., 0., 0.],\n",
       "            [0., 0., 0., 0., 0., 0., 0., 0., 0., 0.],\n",
       "            [0., 0., 0., 0., 0., 0., 0., 0., 0., 0.]], dtype=float32)],\n",
       "   final_momentum=[Array([[0., 0., 0., 0., 0., 0., 0., 0., 0., 0.],\n",
       "            [0., 0., 0., 0., 0., 0., 0., 0., 0., 0.],\n",
       "            [0., 0., 0., 0., 0., 0., 0., 0., 0., 0.]], dtype=float32)],\n",
       "   step_size=[],\n",
       "   num_leapfrog_steps=[],\n",
       "   seed=[]\n",
       " ),\n",
       " 'is_accepted': Array(False, dtype=bool),\n",
       " 'log_accept_ratio': Array(-5.912131e+12, dtype=float32),\n",
       " 'proposed_state': Array([[  99275.14 , -231673.16 ,   45354.195, -583671.06 , -472652.06 ,\n",
       "          126756.945, -188632.45 , -112253.14 ,  220751.2  ,  467821.84 ],\n",
       "        [ 380174.34 ,   11737.334,   56120.82 , -388814.66 , -315818.47 ,\n",
       "          -85154.61 , -151712.5  , -184194.94 , -124844.375,  215311.42 ],\n",
       "        [ 239767.89 ,  -14815.893,  116828.59 , -344324.25 , -310123.06 ,\n",
       "            8898.933, -320344.6  ,  -80648.33 ,   91222.28 ,  -43317.52 ]],      dtype=float32),\n",
       " 'proposed_results': UncalibratedHamiltonianMonteCarloKernelResults(\n",
       "   log_acceptance_correction=Array(-4.96619e+12, dtype=float32),\n",
       "   target_log_prob=Array(-9.4594086e+11, dtype=float32),\n",
       "   grads_target_log_prob=[Array([[ -99275.38 ,  231673.52 ,  -45354.3  ,  583673.   ,  472653.7  ,\n",
       "             -126756.375,  188634.58 ,  112253.164, -220752.47 , -467822.16 ],\n",
       "            [-380174.6  ,  -11736.979,  -56120.926,  388816.6  ,  315820.1  ,\n",
       "               85155.18 ,  151714.62 ,  184194.97 ,  124843.11 , -215311.75 ],\n",
       "            [-239768.12 ,   14816.248, -116828.695,  344326.2  ,  310124.7  ,\n",
       "               -8898.364,  320346.72 ,   80648.35 ,  -91223.55 ,   43317.19 ]],      dtype=float32)],\n",
       "   initial_momentum=[Array([[ 0.24535894,  0.44488418,  0.03917406,  0.757417  ,  1.7498173 ,\n",
       "             -0.73091096, -1.2595534 ,  1.0734993 ,  0.7252847 ,  0.02284545],\n",
       "            [-2.1118758 , -0.2904509 ,  0.9432345 ,  0.86561936,  1.2166733 ,\n",
       "              0.48079717,  0.81228083,  2.8603926 ,  1.8668383 ,  0.47098282],\n",
       "            [ 0.13583557, -0.5257001 , -0.00679888,  0.34791437,  0.5146497 ,\n",
       "              0.9575174 , -0.14262362,  1.4900763 , -1.9328849 ,  0.02616417]],      dtype=float32)],\n",
       "   final_momentum=[Array([[ -227468.48 ,   530830.7  ,  -103919.766,  1337362.8  ,\n",
       "              1082985.5  ,  -290435.3  ,   432216.12 ,   257204.34 ,\n",
       "              -505807.44 , -1071915.1  ],\n",
       "            [ -871089.4  ,   -26892.797,  -128589.19 ,   890890.75 ,\n",
       "               723634.75 ,   195115.02 ,   347621.88 ,   422043.7  ,\n",
       "               286051.47 ,  -493341.2  ],\n",
       "            [ -549377.8  ,    33948.285,  -267688.2  ,   788950.4  ,\n",
       "               710584.9  ,   -20388.715,   734006.56 ,   184788.6  ,\n",
       "              -209019.4  ,    99252.15 ]], dtype=float32)],\n",
       "   step_size=[],\n",
       "   num_leapfrog_steps=[],\n",
       "   seed=Array([1516729781,  495769367], dtype=uint32)\n",
       " ),\n",
       " 'extra': [],\n",
       " 'seed': Array([3377975955,  448062896], dtype=uint32)}"
      ]
     },
     "execution_count": 36,
     "metadata": {},
     "output_type": "execute_result"
    }
   ],
   "source": [
    "sampler_state"
   ]
  },
  {
   "cell_type": "code",
   "execution_count": 10,
   "metadata": {},
   "outputs": [],
   "source": [
    "# How much overhead is there in the NUTS sampler compared to HMC? For the Gaussian test case, about a \n",
    "# factor of 10. The important determinant will be the ESS per CPU time. We can also try\n",
    "# https://www.tensorflow.org/probability/api_docs/python/tfp/mcmc/SimpleStepSizeAdaptation"
   ]
  },
  {
   "cell_type": "markdown",
   "metadata": {},
   "source": [
    "### Testing Mixed Sampler"
   ]
  },
  {
   "cell_type": "code",
   "execution_count": 7,
   "metadata": {},
   "outputs": [],
   "source": [
    "# testing a mixed/discrete object. Key points about sampling - need to separately update the \n",
    "# adjacency matrix and the weight matrix, but conditioned on the discrete support, the weight sampler\n",
    "# should only update non-zero weights, or at least should have small probability in doing so...\n",
    "dim = 10\n",
    "burnin = 1000\n",
    "chain_length = 5000\n",
    "n_chains = 3\n",
    "\n",
    "# Initialize model up front\n",
    "N = 10\n",
    "g = np.zeros(N)   #g for group\n",
    "g[int(N/2):] = 1   #2 groups for now\n",
    "\n",
    "config = common_configs.get_config()\n",
    "# Only need to record size attribute and num_categories to 2 (binary)\n",
    "model_config = {'shape':(N, N), 'num_categories':2}\n",
    "model_config = ml_collections.ConfigDict(model_config)\n",
    "config.model.update(model_config)\n",
    "\n",
    "#### Product model initialization\n",
    "rng = jax.random.PRNGKey(420)\n",
    "sample_init_rng, param_init_rng, rng = jax.random.split(rng, 3)\n",
    "model0 = ergm_jax.WeightedSBM(comm_assignment=g, N=N) \n",
    "model1 = ergm_jax.deg_corrected_SBM(N=N, comm_assignment=g, sbm_only=False, degree_only=False) \n",
    "model = ergm_jax.ERGMProduct(N = N, ergm_children = (model0,model1), domain_categories = (1,0))\n",
    "model_params = model.make_init_params(param_init_rng)\n",
    "x = model.get_init_samples(sample_init_rng, n_chains)\n",
    "\n",
    "dsampler_config = dlmc_config.get_config()\n",
    "dconfig = deepcopy(config)\n",
    "dconfig.sampler.update(dsampler_config)\n",
    "dsampler = BinaryDLMC(dconfig)\n",
    "\n",
    "sampler_config = {'step_size':5}\n",
    "sampler_config = ml_collections.ConfigDict(sampler_config)\n",
    "config.sampler.update(sampler_config)\n",
    "# need to separate out the WeightedSBM parameters only\n",
    "csampler = HMCWrapper(config, model0, model_params[0:model0.N_pars])\n",
    "sampler = BlockGibbsSampler(dsampler, csampler)\n",
    "\n",
    "rnd = jax.random.PRNGKey(165)\n",
    "init_rng, step_rng, model_rng = jax.random.split(rnd, 3)\n",
    "sample_init_rng, sampler_init_rng = jax.random.split(init_rng, 2)"
   ]
  },
  {
   "cell_type": "code",
   "execution_count": 9,
   "metadata": {},
   "outputs": [
    {
     "name": "stderr",
     "output_type": "stream",
     "text": [
      "  1%|          | 64/6000 [00:03<05:35, 17.72it/s] \n"
     ]
    },
    {
     "ename": "KeyboardInterrupt",
     "evalue": "",
     "output_type": "error",
     "traceback": [
      "\u001b[0;31m---------------------------------------------------------------------------\u001b[0m",
      "\u001b[0;31mKeyboardInterrupt\u001b[0m                         Traceback (most recent call last)",
      "Cell \u001b[0;32mIn[9], line 7\u001b[0m\n\u001b[1;32m      5\u001b[0m \u001b[38;5;28;01mfor\u001b[39;00m idx \u001b[38;5;129;01min\u001b[39;00m tqdm(\u001b[38;5;28mrange\u001b[39m(burnin \u001b[38;5;241m+\u001b[39m chain_length)):\n\u001b[1;32m      6\u001b[0m     step_rng_, step_rng \u001b[38;5;241m=\u001b[39m jax\u001b[38;5;241m.\u001b[39mrandom\u001b[38;5;241m.\u001b[39msplit(step_rng, \u001b[38;5;241m2\u001b[39m)\n\u001b[0;32m----> 7\u001b[0m     xd, xc, sampler_state \u001b[38;5;241m=\u001b[39m \u001b[43msampler\u001b[49m\u001b[38;5;241;43m.\u001b[39;49m\u001b[43mstep\u001b[49m\u001b[43m(\u001b[49m\u001b[43mmodel\u001b[49m\u001b[43m,\u001b[49m\u001b[43m \u001b[49m\u001b[43mstep_rng_\u001b[49m\u001b[43m,\u001b[49m\u001b[43m \u001b[49m\u001b[43mxd\u001b[49m\u001b[43m,\u001b[49m\u001b[43m \u001b[49m\u001b[43mxc\u001b[49m\u001b[43m,\u001b[49m\u001b[43m \u001b[49m\u001b[43mmodel_params\u001b[49m\u001b[43m,\u001b[49m\u001b[43m \u001b[49m\u001b[43msampler_state\u001b[49m\u001b[43m)\u001b[49m\n\u001b[1;32m      8\u001b[0m     \u001b[38;5;28;01mif\u001b[39;00m idx \u001b[38;5;241m>\u001b[39m burnin:\n\u001b[1;32m      9\u001b[0m         samples\u001b[38;5;241m.\u001b[39mappend((xd, xc))\n",
      "File \u001b[0;32m~/nse/discs/discs/samplers/mixed.py:122\u001b[0m, in \u001b[0;36mBlockGibbsSampler.step\u001b[0;34m(self, model, rng, x_d, x_c, model_param, state, xd_mask, xc_mask)\u001b[0m\n\u001b[1;32m    119\u001b[0m drng, crng \u001b[38;5;241m=\u001b[39m jax\u001b[38;5;241m.\u001b[39mrandom\u001b[38;5;241m.\u001b[39msplit(rng)\n\u001b[1;32m    121\u001b[0m \u001b[38;5;66;03m# Step discrete and then continuous\u001b[39;00m\n\u001b[0;32m--> 122\u001b[0m x_d_new, new_dstate, _ \u001b[38;5;241m=\u001b[39m \u001b[38;5;28;43mself\u001b[39;49m\u001b[38;5;241;43m.\u001b[39;49m\u001b[43mdsampler\u001b[49m\u001b[38;5;241;43m.\u001b[39;49m\u001b[43mstep\u001b[49m\u001b[43m(\u001b[49m\u001b[43mmodel\u001b[49m\u001b[43m,\u001b[49m\u001b[43m \u001b[49m\u001b[43mdrng\u001b[49m\u001b[43m,\u001b[49m\u001b[43m \u001b[49m\u001b[43mx_d\u001b[49m\u001b[43m,\u001b[49m\u001b[43m \u001b[49m\u001b[43mmodel_param\u001b[49m\u001b[43m,\u001b[49m\u001b[43m \u001b[49m\u001b[43mstate\u001b[49m\u001b[43m[\u001b[49m\u001b[38;5;124;43m'\u001b[39;49m\u001b[38;5;124;43mdstate\u001b[39;49m\u001b[38;5;124;43m'\u001b[39;49m\u001b[43m]\u001b[49m\u001b[43m,\u001b[49m\u001b[43m \u001b[49m\u001b[43mxd_mask\u001b[49m\u001b[43m)\u001b[49m\n\u001b[1;32m    123\u001b[0m x_c_new, new_cstate, _ \u001b[38;5;241m=\u001b[39m \u001b[38;5;28mself\u001b[39m\u001b[38;5;241m.\u001b[39mcsampler\u001b[38;5;241m.\u001b[39mstep(model, crng, x_c, model_param, state[\u001b[38;5;124m'\u001b[39m\u001b[38;5;124mcstate\u001b[39m\u001b[38;5;124m'\u001b[39m], xc_mask)\n\u001b[1;32m    124\u001b[0m new_state \u001b[38;5;241m=\u001b[39m \u001b[38;5;28mself\u001b[39m\u001b[38;5;241m.\u001b[39mupdate_sampler_state(state, new_dstate, new_cstate)\n",
      "File \u001b[0;32m~/nse/discs/discs/samplers/dlmc.py:103\u001b[0m, in \u001b[0;36mDLMCSampler.step\u001b[0;34m(self, model, rng, x, model_param, state, x_mask)\u001b[0m\n\u001b[1;32m    101\u001b[0m y, aux \u001b[38;5;241m=\u001b[39m \u001b[38;5;28mself\u001b[39m\u001b[38;5;241m.\u001b[39msample_from_proposal(rng_new_sample, x, dist_x)\n\u001b[1;32m    102\u001b[0m ll_x2y \u001b[38;5;241m=\u001b[39m \u001b[38;5;28mself\u001b[39m\u001b[38;5;241m.\u001b[39mget_ll_onestep(dist_x, aux\u001b[38;5;241m=\u001b[39maux)\n\u001b[0;32m--> 103\u001b[0m ll_y, log_rate_y \u001b[38;5;241m=\u001b[39m \u001b[38;5;28;43mself\u001b[39;49m\u001b[38;5;241;43m.\u001b[39;49m\u001b[43mget_value_and_rates\u001b[49m\u001b[43m(\u001b[49m\u001b[43mmodel\u001b[49m\u001b[43m,\u001b[49m\u001b[43m \u001b[49m\u001b[43mmodel_param\u001b[49m\u001b[43m,\u001b[49m\u001b[43m \u001b[49m\u001b[43my\u001b[49m\u001b[43m)\u001b[49m\n\u001b[1;32m    104\u001b[0m \u001b[38;5;28;01mif\u001b[39;00m \u001b[38;5;28mself\u001b[39m\u001b[38;5;241m.\u001b[39madaptive \u001b[38;5;129;01mand\u001b[39;00m \u001b[38;5;28mself\u001b[39m\u001b[38;5;241m.\u001b[39mco_opt_prob:\n\u001b[1;32m    105\u001b[0m   local_stats \u001b[38;5;241m=\u001b[39m \u001b[38;5;28mself\u001b[39m\u001b[38;5;241m.\u001b[39mreset_stats(log_rate_y[\u001b[38;5;124m'\u001b[39m\u001b[38;5;124mweights\u001b[39m\u001b[38;5;124m'\u001b[39m])\n",
      "File \u001b[0;32m~/nse/discs/discs/samplers/dlmc.py:52\u001b[0m, in \u001b[0;36mDLMCSampler.get_value_and_rates\u001b[0;34m(self, model, model_param, x)\u001b[0m\n\u001b[1;32m     51\u001b[0m \u001b[38;5;28;01mdef\u001b[39;00m \u001b[38;5;21mget_value_and_rates\u001b[39m(\u001b[38;5;28mself\u001b[39m, model, model_param, x):\n\u001b[0;32m---> 52\u001b[0m   ll_x, grad_x \u001b[38;5;241m=\u001b[39m \u001b[43mmodel\u001b[49m\u001b[38;5;241;43m.\u001b[39;49m\u001b[43mget_value_and_grad\u001b[49m\u001b[43m(\u001b[49m\u001b[43mmodel_param\u001b[49m\u001b[43m,\u001b[49m\u001b[43m \u001b[49m\u001b[43mx\u001b[49m\u001b[43m)\u001b[49m\n\u001b[1;32m     53\u001b[0m   \u001b[38;5;28;01mif\u001b[39;00m \u001b[38;5;28mself\u001b[39m\u001b[38;5;241m.\u001b[39mnum_categories \u001b[38;5;241m==\u001b[39m \u001b[38;5;241m2\u001b[39m:\n\u001b[1;32m     54\u001b[0m     ll_delta \u001b[38;5;241m=\u001b[39m (\u001b[38;5;241m1\u001b[39m \u001b[38;5;241m-\u001b[39m \u001b[38;5;241m2\u001b[39m \u001b[38;5;241m*\u001b[39m x) \u001b[38;5;241m*\u001b[39m grad_x\n",
      "File \u001b[0;32m~/nse/network_control/ergm_jax.py:227\u001b[0m, in \u001b[0;36mERGMProduct.get_value_and_grad\u001b[0;34m(self, params, x)\u001b[0m\n\u001b[1;32m    225\u001b[0m grads \u001b[38;5;241m=\u001b[39m []\n\u001b[1;32m    226\u001b[0m \u001b[38;5;28;01mfor\u001b[39;00m i, e \u001b[38;5;129;01min\u001b[39;00m \u001b[38;5;28menumerate\u001b[39m(\u001b[38;5;28mself\u001b[39m\u001b[38;5;241m.\u001b[39mergm_children):\n\u001b[0;32m--> 227\u001b[0m     v, g \u001b[38;5;241m=\u001b[39m \u001b[43me\u001b[49m\u001b[38;5;241;43m.\u001b[39;49m\u001b[43mget_value_and_grad\u001b[49m\u001b[43m(\u001b[49m\u001b[43mpars\u001b[49m\u001b[43m[\u001b[49m\u001b[43mi\u001b[49m\u001b[43m]\u001b[49m\u001b[43m,\u001b[49m\u001b[43m \u001b[49m\u001b[43mx\u001b[49m\u001b[43m)\u001b[49m\n\u001b[1;32m    228\u001b[0m     vals\u001b[38;5;241m.\u001b[39mappend(v)\n\u001b[1;32m    229\u001b[0m     grads\u001b[38;5;241m.\u001b[39mappend(g)\n",
      "File \u001b[0;32m~/nse/network_control/ergm_jax.py:302\u001b[0m, in \u001b[0;36mERGM.get_value_and_grad\u001b[0;34m(self, params, x)\u001b[0m\n\u001b[1;32m    299\u001b[0m \u001b[38;5;28;01mdef\u001b[39;00m \u001b[38;5;21mget_value_and_grad\u001b[39m(\u001b[38;5;28mself\u001b[39m, params, x):\n\u001b[1;32m    300\u001b[0m     \u001b[38;5;66;03m# Important point to remember: We are taking the gradient with\u001b[39;00m\n\u001b[1;32m    301\u001b[0m     \u001b[38;5;66;03m# respect to x here, not params\u001b[39;00m\n\u001b[0;32m--> 302\u001b[0m     ll, grad  \u001b[38;5;241m=\u001b[39m \u001b[43mjax\u001b[49m\u001b[38;5;241;43m.\u001b[39;49m\u001b[43mvalue_and_grad\u001b[49m\u001b[43m(\u001b[49m\u001b[38;5;28;43mself\u001b[39;49m\u001b[38;5;241;43m.\u001b[39;49m\u001b[43mHfunc\u001b[49m\u001b[43m,\u001b[49m\u001b[43m \u001b[49m\u001b[43margnums\u001b[49m\u001b[38;5;241;43m=\u001b[39;49m\u001b[38;5;241;43m1\u001b[39;49m\u001b[43m)\u001b[49m\u001b[43m(\u001b[49m\u001b[43mparams\u001b[49m\u001b[43m,\u001b[49m\u001b[43m \u001b[49m\u001b[43mx\u001b[49m\u001b[43m)\u001b[49m\n\u001b[1;32m    303\u001b[0m     \u001b[38;5;28;01mreturn\u001b[39;00m ll, grad\n",
      "    \u001b[0;31m[... skipping hidden 1 frame]\u001b[0m\n",
      "File \u001b[0;32m~/micromamba/envs/torch/lib/python3.11/site-packages/jax/_src/api.py:741\u001b[0m, in \u001b[0;36mvalue_and_grad.<locals>.value_and_grad_f\u001b[0;34m(*args, **kwargs)\u001b[0m\n\u001b[1;32m    739\u001b[0m   _check_input_dtype_grad(holomorphic, allow_int, leaf)\n\u001b[1;32m    740\u001b[0m \u001b[38;5;28;01mif\u001b[39;00m \u001b[38;5;129;01mnot\u001b[39;00m has_aux:\n\u001b[0;32m--> 741\u001b[0m   ans, vjp_py \u001b[38;5;241m=\u001b[39m \u001b[43m_vjp\u001b[49m\u001b[43m(\u001b[49m\u001b[43mf_partial\u001b[49m\u001b[43m,\u001b[49m\u001b[43m \u001b[49m\u001b[38;5;241;43m*\u001b[39;49m\u001b[43mdyn_args\u001b[49m\u001b[43m,\u001b[49m\u001b[43m \u001b[49m\u001b[43mreduce_axes\u001b[49m\u001b[38;5;241;43m=\u001b[39;49m\u001b[43mreduce_axes\u001b[49m\u001b[43m)\u001b[49m\n\u001b[1;32m    742\u001b[0m \u001b[38;5;28;01melse\u001b[39;00m:\n\u001b[1;32m    743\u001b[0m   ans, vjp_py, aux \u001b[38;5;241m=\u001b[39m _vjp(\n\u001b[1;32m    744\u001b[0m       f_partial, \u001b[38;5;241m*\u001b[39mdyn_args, has_aux\u001b[38;5;241m=\u001b[39m\u001b[38;5;28;01mTrue\u001b[39;00m, reduce_axes\u001b[38;5;241m=\u001b[39mreduce_axes)\n",
      "File \u001b[0;32m~/micromamba/envs/torch/lib/python3.11/site-packages/jax/_src/api.py:2236\u001b[0m, in \u001b[0;36m_vjp\u001b[0;34m(fun, has_aux, reduce_axes, *primals)\u001b[0m\n\u001b[1;32m   2234\u001b[0m \u001b[38;5;28;01mif\u001b[39;00m \u001b[38;5;129;01mnot\u001b[39;00m has_aux:\n\u001b[1;32m   2235\u001b[0m   flat_fun, out_tree \u001b[38;5;241m=\u001b[39m flatten_fun_nokwargs(fun, in_tree)\n\u001b[0;32m-> 2236\u001b[0m   out_primal, out_vjp \u001b[38;5;241m=\u001b[39m \u001b[43mad\u001b[49m\u001b[38;5;241;43m.\u001b[39;49m\u001b[43mvjp\u001b[49m\u001b[43m(\u001b[49m\n\u001b[1;32m   2237\u001b[0m \u001b[43m      \u001b[49m\u001b[43mflat_fun\u001b[49m\u001b[43m,\u001b[49m\u001b[43m \u001b[49m\u001b[43mprimals_flat\u001b[49m\u001b[43m,\u001b[49m\u001b[43m \u001b[49m\u001b[43mreduce_axes\u001b[49m\u001b[38;5;241;43m=\u001b[39;49m\u001b[43mreduce_axes\u001b[49m\u001b[43m)\u001b[49m\n\u001b[1;32m   2238\u001b[0m   out_tree \u001b[38;5;241m=\u001b[39m out_tree()\n\u001b[1;32m   2239\u001b[0m \u001b[38;5;28;01melse\u001b[39;00m:\n",
      "File \u001b[0;32m~/micromamba/envs/torch/lib/python3.11/site-packages/jax/_src/interpreters/ad.py:140\u001b[0m, in \u001b[0;36mvjp\u001b[0;34m(traceable, primals, has_aux, reduce_axes)\u001b[0m\n\u001b[1;32m    138\u001b[0m \u001b[38;5;28;01mdef\u001b[39;00m \u001b[38;5;21mvjp\u001b[39m(traceable, primals, has_aux\u001b[38;5;241m=\u001b[39m\u001b[38;5;28;01mFalse\u001b[39;00m, reduce_axes\u001b[38;5;241m=\u001b[39m()):\n\u001b[1;32m    139\u001b[0m   \u001b[38;5;28;01mif\u001b[39;00m \u001b[38;5;129;01mnot\u001b[39;00m has_aux:\n\u001b[0;32m--> 140\u001b[0m     out_primals, pvals, jaxpr, consts \u001b[38;5;241m=\u001b[39m \u001b[43mlinearize\u001b[49m\u001b[43m(\u001b[49m\u001b[43mtraceable\u001b[49m\u001b[43m,\u001b[49m\u001b[43m \u001b[49m\u001b[38;5;241;43m*\u001b[39;49m\u001b[43mprimals\u001b[49m\u001b[43m)\u001b[49m\n\u001b[1;32m    141\u001b[0m   \u001b[38;5;28;01melse\u001b[39;00m:\n\u001b[1;32m    142\u001b[0m     out_primals, pvals, jaxpr, consts, aux \u001b[38;5;241m=\u001b[39m linearize(traceable, \u001b[38;5;241m*\u001b[39mprimals, has_aux\u001b[38;5;241m=\u001b[39m\u001b[38;5;28;01mTrue\u001b[39;00m)\n",
      "File \u001b[0;32m~/micromamba/envs/torch/lib/python3.11/site-packages/jax/_src/interpreters/ad.py:129\u001b[0m, in \u001b[0;36mlinearize\u001b[0;34m(traceable, *primals, **kwargs)\u001b[0m\n\u001b[1;32m    127\u001b[0m _, in_tree \u001b[38;5;241m=\u001b[39m tree_flatten(((primals, primals), {}))\n\u001b[1;32m    128\u001b[0m jvpfun_flat, out_tree \u001b[38;5;241m=\u001b[39m flatten_fun(jvpfun, in_tree)\n\u001b[0;32m--> 129\u001b[0m jaxpr, out_pvals, consts \u001b[38;5;241m=\u001b[39m \u001b[43mpe\u001b[49m\u001b[38;5;241;43m.\u001b[39;49m\u001b[43mtrace_to_jaxpr_nounits\u001b[49m\u001b[43m(\u001b[49m\u001b[43mjvpfun_flat\u001b[49m\u001b[43m,\u001b[49m\u001b[43m \u001b[49m\u001b[43min_pvals\u001b[49m\u001b[43m)\u001b[49m\n\u001b[1;32m    130\u001b[0m out_primals_pvals, out_tangents_pvals \u001b[38;5;241m=\u001b[39m tree_unflatten(out_tree(), out_pvals)\n\u001b[1;32m    131\u001b[0m \u001b[38;5;28;01massert\u001b[39;00m \u001b[38;5;28mall\u001b[39m(out_primal_pval\u001b[38;5;241m.\u001b[39mis_known() \u001b[38;5;28;01mfor\u001b[39;00m out_primal_pval \u001b[38;5;129;01min\u001b[39;00m out_primals_pvals)\n",
      "File \u001b[0;32m~/micromamba/envs/torch/lib/python3.11/site-packages/jax/_src/profiler.py:314\u001b[0m, in \u001b[0;36mannotate_function.<locals>.wrapper\u001b[0;34m(*args, **kwargs)\u001b[0m\n\u001b[1;32m    311\u001b[0m \u001b[38;5;129m@wraps\u001b[39m(func)\n\u001b[1;32m    312\u001b[0m \u001b[38;5;28;01mdef\u001b[39;00m \u001b[38;5;21mwrapper\u001b[39m(\u001b[38;5;241m*\u001b[39margs, \u001b[38;5;241m*\u001b[39m\u001b[38;5;241m*\u001b[39mkwargs):\n\u001b[1;32m    313\u001b[0m   \u001b[38;5;28;01mwith\u001b[39;00m TraceAnnotation(name, \u001b[38;5;241m*\u001b[39m\u001b[38;5;241m*\u001b[39mdecorator_kwargs):\n\u001b[0;32m--> 314\u001b[0m     \u001b[38;5;28;01mreturn\u001b[39;00m \u001b[43mfunc\u001b[49m\u001b[43m(\u001b[49m\u001b[38;5;241;43m*\u001b[39;49m\u001b[43margs\u001b[49m\u001b[43m,\u001b[49m\u001b[43m \u001b[49m\u001b[38;5;241;43m*\u001b[39;49m\u001b[38;5;241;43m*\u001b[39;49m\u001b[43mkwargs\u001b[49m\u001b[43m)\u001b[49m\n\u001b[1;32m    315\u001b[0m   \u001b[38;5;28;01mreturn\u001b[39;00m wrapper\n",
      "File \u001b[0;32m~/micromamba/envs/torch/lib/python3.11/site-packages/jax/_src/interpreters/partial_eval.py:775\u001b[0m, in \u001b[0;36mtrace_to_jaxpr_nounits\u001b[0;34m(***failed resolving arguments***)\u001b[0m\n\u001b[1;32m    769\u001b[0m \u001b[38;5;129m@profiler\u001b[39m\u001b[38;5;241m.\u001b[39mannotate_function\n\u001b[1;32m    770\u001b[0m \u001b[38;5;28;01mdef\u001b[39;00m \u001b[38;5;21mtrace_to_jaxpr_nounits\u001b[39m(\n\u001b[1;32m    771\u001b[0m     fun: lu\u001b[38;5;241m.\u001b[39mWrappedFun, pvals: Sequence[PartialVal],\n\u001b[1;32m    772\u001b[0m     instantiate: \u001b[38;5;28mbool\u001b[39m \u001b[38;5;241m|\u001b[39m Sequence[\u001b[38;5;28mbool\u001b[39m] \u001b[38;5;241m=\u001b[39m \u001b[38;5;28;01mFalse\u001b[39;00m,\n\u001b[1;32m    773\u001b[0m   ) \u001b[38;5;241m-\u001b[39m\u001b[38;5;241m>\u001b[39m \u001b[38;5;28mtuple\u001b[39m[Jaxpr, \u001b[38;5;28mlist\u001b[39m[PartialVal], \u001b[38;5;28mlist\u001b[39m[core\u001b[38;5;241m.\u001b[39mValue]]:\n\u001b[1;32m    774\u001b[0m   current_name_stack \u001b[38;5;241m=\u001b[39m source_info_util\u001b[38;5;241m.\u001b[39mcurrent_name_stack()\n\u001b[0;32m--> 775\u001b[0m \u001b[43m  \u001b[49m\u001b[38;5;28;43;01mwith\u001b[39;49;00m\u001b[43m \u001b[49m\u001b[43mcore\u001b[49m\u001b[38;5;241;43m.\u001b[39;49m\u001b[43mnew_main\u001b[49m\u001b[43m(\u001b[49m\u001b[43mJaxprTrace\u001b[49m\u001b[43m,\u001b[49m\u001b[43m \u001b[49m\u001b[43mname_stack\u001b[49m\u001b[38;5;241;43m=\u001b[39;49m\u001b[43mcurrent_name_stack\u001b[49m\u001b[43m)\u001b[49m\u001b[43m \u001b[49m\u001b[38;5;28;43;01mas\u001b[39;49;00m\u001b[43m \u001b[49m\u001b[43mmain\u001b[49m\u001b[43m:\u001b[49m\n\u001b[1;32m    776\u001b[0m \u001b[43m    \u001b[49m\u001b[43mfun\u001b[49m\u001b[43m \u001b[49m\u001b[38;5;241;43m=\u001b[39;49m\u001b[43m \u001b[49m\u001b[43mtrace_to_subjaxpr_nounits\u001b[49m\u001b[43m(\u001b[49m\u001b[43mfun\u001b[49m\u001b[43m,\u001b[49m\u001b[43m \u001b[49m\u001b[43mmain\u001b[49m\u001b[43m,\u001b[49m\u001b[43m \u001b[49m\u001b[43minstantiate\u001b[49m\u001b[43m)\u001b[49m\n\u001b[1;32m    777\u001b[0m \u001b[43m    \u001b[49m\u001b[43mjaxpr\u001b[49m\u001b[43m,\u001b[49m\u001b[43m \u001b[49m\u001b[43m(\u001b[49m\u001b[43mout_pvals\u001b[49m\u001b[43m,\u001b[49m\u001b[43m \u001b[49m\u001b[43mconsts\u001b[49m\u001b[43m,\u001b[49m\u001b[43m \u001b[49m\u001b[43menv\u001b[49m\u001b[43m)\u001b[49m\u001b[43m \u001b[49m\u001b[38;5;241;43m=\u001b[39;49m\u001b[43m \u001b[49m\u001b[43mfun\u001b[49m\u001b[38;5;241;43m.\u001b[39;49m\u001b[43mcall_wrapped\u001b[49m\u001b[43m(\u001b[49m\u001b[43mpvals\u001b[49m\u001b[43m)\u001b[49m\n",
      "File \u001b[0;32m~/micromamba/envs/torch/lib/python3.11/contextlib.py:144\u001b[0m, in \u001b[0;36m_GeneratorContextManager.__exit__\u001b[0;34m(self, typ, value, traceback)\u001b[0m\n\u001b[1;32m    142\u001b[0m \u001b[38;5;28;01mif\u001b[39;00m typ \u001b[38;5;129;01mis\u001b[39;00m \u001b[38;5;28;01mNone\u001b[39;00m:\n\u001b[1;32m    143\u001b[0m     \u001b[38;5;28;01mtry\u001b[39;00m:\n\u001b[0;32m--> 144\u001b[0m         \u001b[38;5;28mnext\u001b[39m(\u001b[38;5;28mself\u001b[39m\u001b[38;5;241m.\u001b[39mgen)\n\u001b[1;32m    145\u001b[0m     \u001b[38;5;28;01mexcept\u001b[39;00m \u001b[38;5;167;01mStopIteration\u001b[39;00m:\n\u001b[1;32m    146\u001b[0m         \u001b[38;5;28;01mreturn\u001b[39;00m \u001b[38;5;28;01mFalse\u001b[39;00m\n",
      "File \u001b[0;32m~/micromamba/envs/torch/lib/python3.11/site-packages/jax/_src/core.py:1107\u001b[0m, in \u001b[0;36mnew_main\u001b[0;34m(trace_type, dynamic, **payload)\u001b[0m\n\u001b[1;32m   1104\u001b[0m     stack\u001b[38;5;241m.\u001b[39mdynamic \u001b[38;5;241m=\u001b[39m prev_dynamic\n\u001b[1;32m   1105\u001b[0m     _update_thread_local_jit_state(stack\u001b[38;5;241m.\u001b[39mdynamic)\n\u001b[0;32m-> 1107\u001b[0m \u001b[38;5;28;01mif\u001b[39;00m \u001b[43mconfig\u001b[49m\u001b[38;5;241;43m.\u001b[39;49m\u001b[43mjax_check_tracer_leaks\u001b[49m:\n\u001b[1;32m   1108\u001b[0m   t \u001b[38;5;241m=\u001b[39m ref(main)\n\u001b[1;32m   1109\u001b[0m   \u001b[38;5;28;01mdel\u001b[39;00m main\n",
      "File \u001b[0;32m~/micromamba/envs/torch/lib/python3.11/site-packages/jax/_src/config.py:261\u001b[0m, in \u001b[0;36mConfig.define_bool_state.<locals>.get_state\u001b[0;34m(self)\u001b[0m\n\u001b[1;32m    259\u001b[0m \u001b[38;5;28;01mdef\u001b[39;00m \u001b[38;5;21mget_state\u001b[39m(\u001b[38;5;28mself\u001b[39m):\n\u001b[1;32m    260\u001b[0m   val \u001b[38;5;241m=\u001b[39m _thread_local_state\u001b[38;5;241m.\u001b[39m\u001b[38;5;18m__dict__\u001b[39m\u001b[38;5;241m.\u001b[39mget(name, unset)\n\u001b[0;32m--> 261\u001b[0m   \u001b[38;5;28;01mreturn\u001b[39;00m val \u001b[38;5;28;01mif\u001b[39;00m val \u001b[38;5;129;01mis\u001b[39;00m \u001b[38;5;129;01mnot\u001b[39;00m unset \u001b[38;5;28;01melse\u001b[39;00m \u001b[38;5;28;43mself\u001b[39;49m\u001b[38;5;241;43m.\u001b[39;49m\u001b[43m_read\u001b[49m\u001b[43m(\u001b[49m\u001b[43mname\u001b[49m\u001b[43m)\u001b[49m\n",
      "File \u001b[0;32m~/micromamba/envs/torch/lib/python3.11/site-packages/jax/_src/config.py:109\u001b[0m, in \u001b[0;36mConfig._read\u001b[0;34m(self, name)\u001b[0m\n\u001b[1;32m    104\u001b[0m     \u001b[38;5;28;01mraise\u001b[39;00m \u001b[38;5;167;01mAttributeError\u001b[39;00m(\n\u001b[1;32m    105\u001b[0m         \u001b[38;5;124m\"\u001b[39m\u001b[38;5;124mFor flags with a corresponding contextmanager, read their value \u001b[39m\u001b[38;5;124m\"\u001b[39m\n\u001b[1;32m    106\u001b[0m         \u001b[38;5;124mf\u001b[39m\u001b[38;5;124m\"\u001b[39m\u001b[38;5;124mvia e.g. `config.\u001b[39m\u001b[38;5;132;01m{\u001b[39;00mname\u001b[38;5;132;01m}\u001b[39;00m\u001b[38;5;124m` rather than `config.FLAGS.\u001b[39m\u001b[38;5;132;01m{\u001b[39;00mname\u001b[38;5;132;01m}\u001b[39;00m\u001b[38;5;124m`.\u001b[39m\u001b[38;5;124m\"\u001b[39m)\n\u001b[1;32m    107\u001b[0m   \u001b[38;5;28;01mreturn\u001b[39;00m \u001b[38;5;28mself\u001b[39m\u001b[38;5;241m.\u001b[39m_read(name)\n\u001b[0;32m--> 109\u001b[0m \u001b[38;5;28;01mdef\u001b[39;00m \u001b[38;5;21m_read\u001b[39m(\u001b[38;5;28mself\u001b[39m, name):\n\u001b[1;32m    110\u001b[0m   \u001b[38;5;28;01mtry\u001b[39;00m:\n\u001b[1;32m    111\u001b[0m     \u001b[38;5;28;01mreturn\u001b[39;00m \u001b[38;5;28mself\u001b[39m\u001b[38;5;241m.\u001b[39mvalues[name]\n",
      "\u001b[0;31mKeyboardInterrupt\u001b[0m: "
     ]
    }
   ],
   "source": [
    "x = model.get_init_samples(sample_init_rng, n_chains)\n",
    "xd, xc = model.separate_sample(x)\n",
    "sampler_state = sampler.make_init_state(sampler_init_rng, xd, xc)\n",
    "samples = []\n",
    "for idx in tqdm(range(burnin + chain_length)):\n",
    "    step_rng_, step_rng = jax.random.split(step_rng, 2)\n",
    "    xd, xc, sampler_state = sampler.step(model, step_rng_, xd, xc, model_params, sampler_state)\n",
    "    if idx > burnin:\n",
    "        samples.append((xd, xc))"
   ]
  },
  {
   "cell_type": "markdown",
   "metadata": {},
   "source": [
    "### Testing first on binomial times Gaussian"
   ]
  },
  {
   "cell_type": "code",
   "execution_count": 29,
   "metadata": {},
   "outputs": [],
   "source": [
    "# testing a mixed/discrete object. Key points about sampling - need to separately update the \n",
    "# adjacency matrix and the weight matrix, but conditioned on the discrete support, the weight sampler\n",
    "# should only update non-zero weights, or at least should have small probability in doing so...\n",
    "dim = 10\n",
    "burnin = 1000\n",
    "chain_length = 5000\n",
    "n_chains = 3\n",
    "\n",
    "# Initialize model up front\n",
    "N = 10\n",
    "config = common_configs.get_config()\n",
    "# Only need to record size attribute and num_categories to 2 (binary)\n",
    "model_config = {'shape':(N,), 'num_categories':2}\n",
    "model_config = ml_collections.ConfigDict(model_config)\n",
    "config.model.update(model_config)\n",
    "\n",
    "#### Product model initialization\n",
    "rng = jax.random.PRNGKey(420)\n",
    "sample_init_rng, param_init_rng, rng = jax.random.split(rng, 3)\n",
    "model0 = ergm_jax.Gaussian(10)\n",
    "model1 = ergm_jax.Binomial(10)\n",
    "model = ergm_jax.ERGMProduct(N = N, ergm_children = (model0,model1), domain_categories = (1,0))\n",
    "model_params = model.make_init_params(param_init_rng)\n",
    "x = model.get_init_samples(sample_init_rng, n_chains)\n",
    "\n",
    "dsampler_config = dlmc_config.get_config()\n",
    "dconfig = deepcopy(config)\n",
    "dconfig.sampler.update(dsampler_config)\n",
    "dsampler = BinaryDLMC(dconfig)\n",
    "\n",
    "sampler_config = {'step_size':5}\n",
    "sampler_config = ml_collections.ConfigDict(sampler_config)\n",
    "config.sampler.update(sampler_config)\n",
    "# need to separate out the WeightedSBM parameters only\n",
    "csampler = HMCWrapper(config, model0, model_params[0:model0.N_pars])\n",
    "sampler = BlockGibbsSampler(dsampler, csampler)\n",
    "                \n",
    "rnd = jax.random.PRNGKey(165)\n",
    "init_rng, step_rng, model_rng = jax.random.split(rnd, 3)\n",
    "sample_init_rng, sampler_init_rng = jax.random.split(init_rng, 2)"
   ]
  },
  {
   "cell_type": "code",
   "execution_count": null,
   "metadata": {},
   "outputs": [],
   "source": [
    "# Implementation question - currently in ERGM product we \n",
    "# assume a separable energy function.\n",
    "\n",
    "# We need to take gradients with respect to the samples...\n",
    "# This means that we take the "
   ]
  },
  {
   "cell_type": "code",
   "execution_count": 14,
   "metadata": {},
   "outputs": [
    {
     "name": "stderr",
     "output_type": "stream",
     "text": [
      "  1%|          | 32/6000 [00:03<11:00,  9.04it/s] \n"
     ]
    },
    {
     "ename": "KeyboardInterrupt",
     "evalue": "",
     "output_type": "error",
     "traceback": [
      "\u001b[0;31m---------------------------------------------------------------------------\u001b[0m",
      "\u001b[0;31mKeyboardInterrupt\u001b[0m                         Traceback (most recent call last)",
      "Cell \u001b[0;32mIn[14], line 7\u001b[0m\n\u001b[1;32m      5\u001b[0m \u001b[38;5;28;01mfor\u001b[39;00m idx \u001b[38;5;129;01min\u001b[39;00m tqdm(\u001b[38;5;28mrange\u001b[39m(burnin \u001b[38;5;241m+\u001b[39m chain_length)):\n\u001b[1;32m      6\u001b[0m     step_rng_, step_rng \u001b[38;5;241m=\u001b[39m jax\u001b[38;5;241m.\u001b[39mrandom\u001b[38;5;241m.\u001b[39msplit(step_rng, \u001b[38;5;241m2\u001b[39m)\n\u001b[0;32m----> 7\u001b[0m     xd, xc, sampler_state \u001b[38;5;241m=\u001b[39m \u001b[43msampler\u001b[49m\u001b[38;5;241;43m.\u001b[39;49m\u001b[43mstep\u001b[49m\u001b[43m(\u001b[49m\u001b[43mmodel\u001b[49m\u001b[43m,\u001b[49m\u001b[43m \u001b[49m\u001b[43mstep_rng_\u001b[49m\u001b[43m,\u001b[49m\u001b[43m \u001b[49m\u001b[43mxd\u001b[49m\u001b[43m,\u001b[49m\u001b[43m \u001b[49m\u001b[43mxc\u001b[49m\u001b[43m,\u001b[49m\u001b[43m \u001b[49m\u001b[43mmodel_params\u001b[49m\u001b[43m,\u001b[49m\u001b[43m \u001b[49m\u001b[43msampler_state\u001b[49m\u001b[43m)\u001b[49m\n\u001b[1;32m      8\u001b[0m     \u001b[38;5;28;01mif\u001b[39;00m idx \u001b[38;5;241m>\u001b[39m burnin:\n\u001b[1;32m      9\u001b[0m         samples\u001b[38;5;241m.\u001b[39mappend((xd, xc))\n",
      "File \u001b[0;32m~/nse/discs/discs/samplers/mixed.py:123\u001b[0m, in \u001b[0;36mBlockGibbsSampler.step\u001b[0;34m(self, model, rng, x_d, x_c, model_param, state, xd_mask, xc_mask)\u001b[0m\n\u001b[1;32m    121\u001b[0m \u001b[38;5;66;03m# Step discrete and then continuous\u001b[39;00m\n\u001b[1;32m    122\u001b[0m x_d_new, new_dstate, _ \u001b[38;5;241m=\u001b[39m \u001b[38;5;28mself\u001b[39m\u001b[38;5;241m.\u001b[39mdsampler\u001b[38;5;241m.\u001b[39mstep(model, drng, x_d, model_param, state[\u001b[38;5;124m'\u001b[39m\u001b[38;5;124mdstate\u001b[39m\u001b[38;5;124m'\u001b[39m], xd_mask)\n\u001b[0;32m--> 123\u001b[0m x_c_new, new_cstate, _ \u001b[38;5;241m=\u001b[39m \u001b[38;5;28;43mself\u001b[39;49m\u001b[38;5;241;43m.\u001b[39;49m\u001b[43mcsampler\u001b[49m\u001b[38;5;241;43m.\u001b[39;49m\u001b[43mstep\u001b[49m\u001b[43m(\u001b[49m\u001b[43mmodel\u001b[49m\u001b[43m,\u001b[49m\u001b[43m \u001b[49m\u001b[43mcrng\u001b[49m\u001b[43m,\u001b[49m\u001b[43m \u001b[49m\u001b[43mx_c\u001b[49m\u001b[43m,\u001b[49m\u001b[43m \u001b[49m\u001b[43mmodel_param\u001b[49m\u001b[43m,\u001b[49m\u001b[43m \u001b[49m\u001b[43mstate\u001b[49m\u001b[43m[\u001b[49m\u001b[38;5;124;43m'\u001b[39;49m\u001b[38;5;124;43mcstate\u001b[39;49m\u001b[38;5;124;43m'\u001b[39;49m\u001b[43m]\u001b[49m\u001b[43m,\u001b[49m\u001b[43m \u001b[49m\u001b[43mxc_mask\u001b[49m\u001b[43m)\u001b[49m\n\u001b[1;32m    124\u001b[0m new_state \u001b[38;5;241m=\u001b[39m \u001b[38;5;28mself\u001b[39m\u001b[38;5;241m.\u001b[39mupdate_sampler_state(state, new_dstate, new_cstate)\n\u001b[1;32m    125\u001b[0m \u001b[38;5;28;01mreturn\u001b[39;00m x_d_new, x_c_new, new_state\n",
      "File \u001b[0;32m~/nse/discs/discs/samplers/mixed.py:48\u001b[0m, in \u001b[0;36mHMCWrapper.step\u001b[0;34m(self, model, rng, x, model_param, state, x_mask)\u001b[0m\n\u001b[1;32m     46\u001b[0m \u001b[38;5;66;03m# Preprocess the state for input to sampler\u001b[39;00m\n\u001b[1;32m     47\u001b[0m internal_state \u001b[38;5;241m=\u001b[39m \u001b[38;5;28mself\u001b[39m\u001b[38;5;241m.\u001b[39mpreprocess_state(state)    \n\u001b[0;32m---> 48\u001b[0m x_new, internal_state \u001b[38;5;241m=\u001b[39m \u001b[38;5;28;43mself\u001b[39;49m\u001b[38;5;241;43m.\u001b[39;49m\u001b[43msampler\u001b[49m\u001b[38;5;241;43m.\u001b[39;49m\u001b[43mone_step\u001b[49m\u001b[43m(\u001b[49m\u001b[43mx\u001b[49m\u001b[43m,\u001b[49m\u001b[43m \u001b[49m\u001b[43minternal_state\u001b[49m\u001b[43m,\u001b[49m\u001b[43m \u001b[49m\u001b[43mrng\u001b[49m\u001b[43m)\u001b[49m\n\u001b[1;32m     49\u001b[0m \u001b[38;5;66;03m# Postprocess the state for input to the sampler\u001b[39;00m\n\u001b[1;32m     50\u001b[0m state \u001b[38;5;241m=\u001b[39m \u001b[38;5;28mself\u001b[39m\u001b[38;5;241m.\u001b[39mpostprocess_state(state, internal_state)\n",
      "File \u001b[0;32m~/micromamba/envs/torch/lib/python3.11/site-packages/tensorflow_probability/substrates/jax/mcmc/hmc.py:527\u001b[0m, in \u001b[0;36mHamiltonianMonteCarlo.one_step\u001b[0;34m(self, current_state, previous_kernel_results, seed)\u001b[0m\n\u001b[1;32m    524\u001b[0m previous_step_size_assign \u001b[38;5;241m=\u001b[39m []\n\u001b[1;32m    526\u001b[0m \u001b[38;5;28;01mwith\u001b[39;00m tf\u001b[38;5;241m.\u001b[39mcontrol_dependencies(previous_step_size_assign):\n\u001b[0;32m--> 527\u001b[0m   next_state, kernel_results \u001b[38;5;241m=\u001b[39m \u001b[38;5;28;43mself\u001b[39;49m\u001b[38;5;241;43m.\u001b[39;49m\u001b[43m_impl\u001b[49m\u001b[38;5;241;43m.\u001b[39;49m\u001b[43mone_step\u001b[49m\u001b[43m(\u001b[49m\n\u001b[1;32m    528\u001b[0m \u001b[43m      \u001b[49m\u001b[43mcurrent_state\u001b[49m\u001b[43m,\u001b[49m\u001b[43m \u001b[49m\u001b[43mprevious_kernel_results\u001b[49m\u001b[43m,\u001b[49m\u001b[43m \u001b[49m\u001b[43mseed\u001b[49m\u001b[38;5;241;43m=\u001b[39;49m\u001b[43mseed\u001b[49m\u001b[43m)\u001b[49m\n\u001b[1;32m    529\u001b[0m   \u001b[38;5;28;01mreturn\u001b[39;00m next_state, kernel_results\n",
      "File \u001b[0;32m~/micromamba/envs/torch/lib/python3.11/site-packages/tensorflow_probability/substrates/jax/mcmc/metropolis_hastings.py:191\u001b[0m, in \u001b[0;36mMetropolisHastings.one_step\u001b[0;34m(self, current_state, previous_kernel_results, seed)\u001b[0m\n\u001b[1;32m    185\u001b[0m \u001b[38;5;28;01mwith\u001b[39;00m tf\u001b[38;5;241m.\u001b[39mname_scope(mcmc_util\u001b[38;5;241m.\u001b[39mmake_name(\u001b[38;5;28mself\u001b[39m\u001b[38;5;241m.\u001b[39mname, \u001b[38;5;124m'\u001b[39m\u001b[38;5;124mmh\u001b[39m\u001b[38;5;124m'\u001b[39m, \u001b[38;5;124m'\u001b[39m\u001b[38;5;124mone_step\u001b[39m\u001b[38;5;124m'\u001b[39m)):\n\u001b[1;32m    186\u001b[0m   \u001b[38;5;66;03m# Take one inner step.\u001b[39;00m\n\u001b[1;32m    187\u001b[0m   inner_kwargs \u001b[38;5;241m=\u001b[39m \u001b[38;5;28mdict\u001b[39m(seed\u001b[38;5;241m=\u001b[39mproposal_seed) \u001b[38;5;28;01mif\u001b[39;00m is_seeded \u001b[38;5;28;01melse\u001b[39;00m {}\n\u001b[1;32m    188\u001b[0m   [\n\u001b[1;32m    189\u001b[0m       proposed_state,\n\u001b[1;32m    190\u001b[0m       proposed_results,\n\u001b[0;32m--> 191\u001b[0m   ] \u001b[38;5;241m=\u001b[39m \u001b[38;5;28;43mself\u001b[39;49m\u001b[38;5;241;43m.\u001b[39;49m\u001b[43minner_kernel\u001b[49m\u001b[38;5;241;43m.\u001b[39;49m\u001b[43mone_step\u001b[49m\u001b[43m(\u001b[49m\n\u001b[1;32m    192\u001b[0m \u001b[43m      \u001b[49m\u001b[43mcurrent_state\u001b[49m\u001b[43m,\u001b[49m\n\u001b[1;32m    193\u001b[0m \u001b[43m      \u001b[49m\u001b[43mprevious_kernel_results\u001b[49m\u001b[38;5;241;43m.\u001b[39;49m\u001b[43maccepted_results\u001b[49m\u001b[43m,\u001b[49m\n\u001b[1;32m    194\u001b[0m \u001b[43m      \u001b[49m\u001b[38;5;241;43m*\u001b[39;49m\u001b[38;5;241;43m*\u001b[39;49m\u001b[43minner_kwargs\u001b[49m\u001b[43m)\u001b[49m\n\u001b[1;32m    195\u001b[0m   \u001b[38;5;28;01mif\u001b[39;00m mcmc_util\u001b[38;5;241m.\u001b[39mis_list_like(current_state):\n\u001b[1;32m    196\u001b[0m     proposed_state \u001b[38;5;241m=\u001b[39m tf\u001b[38;5;241m.\u001b[39mnest\u001b[38;5;241m.\u001b[39mpack_sequence_as(current_state, proposed_state)\n",
      "File \u001b[0;32m~/micromamba/envs/torch/lib/python3.11/site-packages/tensorflow_probability/substrates/jax/mcmc/hmc.py:705\u001b[0m, in \u001b[0;36mUncalibratedHamiltonianMonteCarlo.one_step\u001b[0;34m(self, current_state, previous_kernel_results, seed)\u001b[0m\n\u001b[1;32m    691\u001b[0m   current_momentum_parts\u001b[38;5;241m.\u001b[39mappend(\n\u001b[1;32m    692\u001b[0m       samplers\u001b[38;5;241m.\u001b[39mnormal(\n\u001b[1;32m    693\u001b[0m           shape\u001b[38;5;241m=\u001b[39mps\u001b[38;5;241m.\u001b[39mshape(x),\n\u001b[1;32m    694\u001b[0m           dtype\u001b[38;5;241m=\u001b[39m\u001b[38;5;28mself\u001b[39m\u001b[38;5;241m.\u001b[39m_momentum_dtype \u001b[38;5;129;01mor\u001b[39;00m dtype_util\u001b[38;5;241m.\u001b[39mbase_dtype(x\u001b[38;5;241m.\u001b[39mdtype),\n\u001b[1;32m    695\u001b[0m           seed\u001b[38;5;241m=\u001b[39mpart_seed))\n\u001b[1;32m    697\u001b[0m integrator \u001b[38;5;241m=\u001b[39m leapfrog_impl\u001b[38;5;241m.\u001b[39mSimpleLeapfrogIntegrator(\n\u001b[1;32m    698\u001b[0m     \u001b[38;5;28mself\u001b[39m\u001b[38;5;241m.\u001b[39mtarget_log_prob_fn, step_sizes, num_leapfrog_steps)\n\u001b[1;32m    700\u001b[0m [\n\u001b[1;32m    701\u001b[0m     next_momentum_parts,\n\u001b[1;32m    702\u001b[0m     next_state_parts,\n\u001b[1;32m    703\u001b[0m     next_target_log_prob,\n\u001b[1;32m    704\u001b[0m     next_target_log_prob_grad_parts,\n\u001b[0;32m--> 705\u001b[0m ] \u001b[38;5;241m=\u001b[39m \u001b[43mintegrator\u001b[49m\u001b[43m(\u001b[49m\u001b[43mcurrent_momentum_parts\u001b[49m\u001b[43m,\u001b[49m\n\u001b[1;32m    706\u001b[0m \u001b[43m               \u001b[49m\u001b[43mcurrent_state_parts\u001b[49m\u001b[43m,\u001b[49m\n\u001b[1;32m    707\u001b[0m \u001b[43m               \u001b[49m\u001b[43mcurrent_target_log_prob\u001b[49m\u001b[43m,\u001b[49m\n\u001b[1;32m    708\u001b[0m \u001b[43m               \u001b[49m\u001b[43mcurrent_target_log_prob_grad_parts\u001b[49m\u001b[43m)\u001b[49m\n\u001b[1;32m    709\u001b[0m \u001b[38;5;28;01mif\u001b[39;00m \u001b[38;5;28mself\u001b[39m\u001b[38;5;241m.\u001b[39mstate_gradients_are_stopped:\n\u001b[1;32m    710\u001b[0m   next_state_parts \u001b[38;5;241m=\u001b[39m [tf\u001b[38;5;241m.\u001b[39mstop_gradient(x) \u001b[38;5;28;01mfor\u001b[39;00m x \u001b[38;5;129;01min\u001b[39;00m next_state_parts]\n",
      "File \u001b[0;32m~/micromamba/envs/torch/lib/python3.11/site-packages/tensorflow_probability/substrates/jax/mcmc/internal/leapfrog_integrator.py:291\u001b[0m, in \u001b[0;36mSimpleLeapfrogIntegrator.__call__\u001b[0;34m(self, momentum_parts, state_parts, target, target_grad_parts, kinetic_energy_fn, name)\u001b[0m\n\u001b[1;32m    277\u001b[0m \u001b[38;5;66;03m# See Algorithm 1 of \"Faster Hamiltonian Monte Carlo by Learning Leapfrog\u001b[39;00m\n\u001b[1;32m    278\u001b[0m \u001b[38;5;66;03m# Scale\", https://arxiv.org/abs/1810.04449.\u001b[39;00m\n\u001b[1;32m    280\u001b[0m half_next_momentum_parts \u001b[38;5;241m=\u001b[39m [\n\u001b[1;32m    281\u001b[0m     v \u001b[38;5;241m+\u001b[39m _multiply(\u001b[38;5;241m0.5\u001b[39m \u001b[38;5;241m*\u001b[39m eps, g, dtype\u001b[38;5;241m=\u001b[39mv\u001b[38;5;241m.\u001b[39mdtype)\n\u001b[1;32m    282\u001b[0m     \u001b[38;5;28;01mfor\u001b[39;00m v, eps, g\n\u001b[1;32m    283\u001b[0m     \u001b[38;5;129;01min\u001b[39;00m \u001b[38;5;28mzip\u001b[39m(momentum_parts, \u001b[38;5;28mself\u001b[39m\u001b[38;5;241m.\u001b[39mstep_sizes, target_grad_parts)]\n\u001b[1;32m    285\u001b[0m [\n\u001b[1;32m    286\u001b[0m     _,\n\u001b[1;32m    287\u001b[0m     next_half_next_momentum_parts,\n\u001b[1;32m    288\u001b[0m     next_state_parts,\n\u001b[1;32m    289\u001b[0m     next_target,\n\u001b[1;32m    290\u001b[0m     next_target_grad_parts,\n\u001b[0;32m--> 291\u001b[0m ] \u001b[38;5;241m=\u001b[39m \u001b[43mtf\u001b[49m\u001b[38;5;241;43m.\u001b[39;49m\u001b[43mwhile_loop\u001b[49m\u001b[43m(\u001b[49m\n\u001b[1;32m    292\u001b[0m \u001b[43m    \u001b[49m\u001b[43mcond\u001b[49m\u001b[38;5;241;43m=\u001b[39;49m\u001b[38;5;28;43;01mlambda\u001b[39;49;00m\u001b[43m \u001b[49m\u001b[43mi\u001b[49m\u001b[43m,\u001b[49m\u001b[43m \u001b[49m\u001b[38;5;241;43m*\u001b[39;49m\u001b[43m_\u001b[49m\u001b[43m:\u001b[49m\u001b[43m \u001b[49m\u001b[43mi\u001b[49m\u001b[43m \u001b[49m\u001b[38;5;241;43m<\u001b[39;49m\u001b[43m \u001b[49m\u001b[38;5;28;43mself\u001b[39;49m\u001b[38;5;241;43m.\u001b[39;49m\u001b[43mnum_steps\u001b[49m\u001b[43m,\u001b[49m\n\u001b[1;32m    293\u001b[0m \u001b[43m    \u001b[49m\u001b[43mbody\u001b[49m\u001b[38;5;241;43m=\u001b[39;49m\u001b[38;5;28;43;01mlambda\u001b[39;49;00m\u001b[43m \u001b[49m\u001b[43mi\u001b[49m\u001b[43m,\u001b[49m\u001b[43m \u001b[49m\u001b[38;5;241;43m*\u001b[39;49m\u001b[43margs\u001b[49m\u001b[43m:\u001b[49m\u001b[43m \u001b[49m\u001b[43m[\u001b[49m\u001b[43mi\u001b[49m\u001b[43m \u001b[49m\u001b[38;5;241;43m+\u001b[39;49m\u001b[43m \u001b[49m\u001b[38;5;241;43m1\u001b[39;49m\u001b[43m]\u001b[49m\u001b[43m \u001b[49m\u001b[38;5;241;43m+\u001b[39;49m\u001b[43m \u001b[49m\u001b[38;5;28;43mlist\u001b[39;49m\u001b[43m(\u001b[49m\u001b[43m_one_step\u001b[49m\u001b[43m(\u001b[49m\u001b[43m  \u001b[49m\u001b[38;5;66;43;03m# pylint: disable=no-value-for-parameter,g-long-lambda\u001b[39;49;00m\n\u001b[1;32m    294\u001b[0m \u001b[43m        \u001b[49m\u001b[38;5;28;43mself\u001b[39;49m\u001b[38;5;241;43m.\u001b[39;49m\u001b[43mtarget_fn\u001b[49m\u001b[43m,\u001b[49m\u001b[43m \u001b[49m\u001b[38;5;28;43mself\u001b[39;49m\u001b[38;5;241;43m.\u001b[39;49m\u001b[43mstep_sizes\u001b[49m\u001b[43m,\u001b[49m\u001b[43m \u001b[49m\u001b[43mget_velocity_parts\u001b[49m\u001b[43m,\u001b[49m\u001b[43m \u001b[49m\u001b[38;5;241;43m*\u001b[39;49m\u001b[43margs\u001b[49m\u001b[43m)\u001b[49m\u001b[43m)\u001b[49m\u001b[43m,\u001b[49m\n\u001b[1;32m    295\u001b[0m \u001b[43m    \u001b[49m\u001b[43mloop_vars\u001b[49m\u001b[38;5;241;43m=\u001b[39;49m\u001b[43m[\u001b[49m\n\u001b[1;32m    296\u001b[0m \u001b[43m        \u001b[49m\u001b[43mtf\u001b[49m\u001b[38;5;241;43m.\u001b[39;49m\u001b[43mzeros_like\u001b[49m\u001b[43m(\u001b[49m\u001b[38;5;28;43mself\u001b[39;49m\u001b[38;5;241;43m.\u001b[39;49m\u001b[43mnum_steps\u001b[49m\u001b[43m,\u001b[49m\u001b[43m \u001b[49m\u001b[43mname\u001b[49m\u001b[38;5;241;43m=\u001b[39;49m\u001b[38;5;124;43m'\u001b[39;49m\u001b[38;5;124;43miter\u001b[39;49m\u001b[38;5;124;43m'\u001b[39;49m\u001b[43m)\u001b[49m\u001b[43m,\u001b[49m\n\u001b[1;32m    297\u001b[0m \u001b[43m        \u001b[49m\u001b[43mhalf_next_momentum_parts\u001b[49m\u001b[43m,\u001b[49m\n\u001b[1;32m    298\u001b[0m \u001b[43m        \u001b[49m\u001b[43mstate_parts\u001b[49m\u001b[43m,\u001b[49m\n\u001b[1;32m    299\u001b[0m \u001b[43m        \u001b[49m\u001b[43mtarget\u001b[49m\u001b[43m,\u001b[49m\n\u001b[1;32m    300\u001b[0m \u001b[43m        \u001b[49m\u001b[43mtarget_grad_parts\u001b[49m\u001b[43m,\u001b[49m\n\u001b[1;32m    301\u001b[0m \u001b[43m    \u001b[49m\u001b[43m]\u001b[49m\u001b[43m)\u001b[49m\n\u001b[1;32m    303\u001b[0m next_momentum_parts \u001b[38;5;241m=\u001b[39m [\n\u001b[1;32m    304\u001b[0m     v \u001b[38;5;241m-\u001b[39m _multiply(\u001b[38;5;241m0.5\u001b[39m \u001b[38;5;241m*\u001b[39m eps, g, dtype\u001b[38;5;241m=\u001b[39mv\u001b[38;5;241m.\u001b[39mdtype)  \u001b[38;5;66;03m# pylint: disable=g-complex-comprehension\u001b[39;00m\n\u001b[1;32m    305\u001b[0m     \u001b[38;5;28;01mfor\u001b[39;00m v, eps, g\n\u001b[0;32m   (...)\u001b[0m\n\u001b[1;32m    308\u001b[0m            next_target_grad_parts)\n\u001b[1;32m    309\u001b[0m ]\n\u001b[1;32m    311\u001b[0m \u001b[38;5;28;01mreturn\u001b[39;00m (\n\u001b[1;32m    312\u001b[0m     next_momentum_parts,\n\u001b[1;32m    313\u001b[0m     next_state_parts,\n\u001b[1;32m    314\u001b[0m     next_target,\n\u001b[1;32m    315\u001b[0m     next_target_grad_parts,\n\u001b[1;32m    316\u001b[0m )\n",
      "File \u001b[0;32m~/micromamba/envs/torch/lib/python3.11/site-packages/tensorflow_probability/python/internal/backend/jax/_utils.py:62\u001b[0m, in \u001b[0;36mcopy_docstring.<locals>.wrap\u001b[0;34m(***failed resolving arguments***)\u001b[0m\n\u001b[1;32m     59\u001b[0m \u001b[38;5;129m@wrapt\u001b[39m\u001b[38;5;241m.\u001b[39mdecorator\n\u001b[1;32m     60\u001b[0m \u001b[38;5;28;01mdef\u001b[39;00m \u001b[38;5;21mwrap\u001b[39m(wrapped, instance, args, kwargs):\n\u001b[1;32m     61\u001b[0m   \u001b[38;5;28;01mdel\u001b[39;00m instance, wrapped\n\u001b[0;32m---> 62\u001b[0m   \u001b[38;5;28;01mreturn\u001b[39;00m \u001b[43mnew_fn\u001b[49m\u001b[43m(\u001b[49m\u001b[38;5;241;43m*\u001b[39;49m\u001b[43margs\u001b[49m\u001b[43m,\u001b[49m\u001b[43m \u001b[49m\u001b[38;5;241;43m*\u001b[39;49m\u001b[38;5;241;43m*\u001b[39;49m\u001b[43mkwargs\u001b[49m\u001b[43m)\u001b[49m\n",
      "File \u001b[0;32m~/micromamba/envs/torch/lib/python3.11/site-packages/tensorflow_probability/python/internal/backend/jax/control_flow.py:90\u001b[0m, in \u001b[0;36m_while_loop_jax\u001b[0;34m(cond, body, loop_vars, shape_invariants, parallel_iterations, back_prop, swap_memory, maximum_iterations, name)\u001b[0m\n\u001b[1;32m     88\u001b[0m   \u001b[38;5;28;01mdef\u001b[39;00m \u001b[38;5;21moverride_cond_fn\u001b[39m(args):\n\u001b[1;32m     89\u001b[0m     \u001b[38;5;28;01mreturn\u001b[39;00m cond(\u001b[38;5;241m*\u001b[39margs)\n\u001b[0;32m---> 90\u001b[0m   \u001b[38;5;28;01mreturn\u001b[39;00m \u001b[43mlax\u001b[49m\u001b[38;5;241;43m.\u001b[39;49m\u001b[43mwhile_loop\u001b[49m\u001b[43m(\u001b[49m\u001b[43moverride_cond_fn\u001b[49m\u001b[43m,\u001b[49m\u001b[43m \u001b[49m\u001b[43moverride_body_fn\u001b[49m\u001b[43m,\u001b[49m\u001b[43m \u001b[49m\u001b[43mloop_vars\u001b[49m\u001b[43m)\u001b[49m\n\u001b[1;32m     91\u001b[0m \u001b[38;5;28;01melif\u001b[39;00m back_prop:\n\u001b[1;32m     92\u001b[0m   \u001b[38;5;28;01mdef\u001b[39;00m \u001b[38;5;21moverride_body_fn\u001b[39m(args, _):\n",
      "    \u001b[0;31m[... skipping hidden 1 frame]\u001b[0m\n",
      "File \u001b[0;32m~/micromamba/envs/torch/lib/python3.11/site-packages/jax/_src/lax/control_flow/loops.py:1227\u001b[0m, in \u001b[0;36mwhile_loop\u001b[0;34m(cond_fun, body_fun, init_val)\u001b[0m\n\u001b[1;32m   1224\u001b[0m \u001b[38;5;28;01mif\u001b[39;00m disallowed_effects:\n\u001b[1;32m   1225\u001b[0m   \u001b[38;5;28;01mraise\u001b[39;00m \u001b[38;5;167;01mNotImplementedError\u001b[39;00m(\n\u001b[1;32m   1226\u001b[0m       \u001b[38;5;124mf\u001b[39m\u001b[38;5;124m'\u001b[39m\u001b[38;5;124mEffects not supported in `while`: \u001b[39m\u001b[38;5;132;01m{\u001b[39;00mdisallowed_effects\u001b[38;5;132;01m}\u001b[39;00m\u001b[38;5;124m'\u001b[39m)\n\u001b[0;32m-> 1227\u001b[0m outs \u001b[38;5;241m=\u001b[39m \u001b[43mwhile_p\u001b[49m\u001b[38;5;241;43m.\u001b[39;49m\u001b[43mbind\u001b[49m\u001b[43m(\u001b[49m\u001b[38;5;241;43m*\u001b[39;49m\u001b[43mcond_consts\u001b[49m\u001b[43m,\u001b[49m\u001b[43m \u001b[49m\u001b[38;5;241;43m*\u001b[39;49m\u001b[43mbody_consts\u001b[49m\u001b[43m,\u001b[49m\u001b[43m \u001b[49m\u001b[38;5;241;43m*\u001b[39;49m\u001b[43minit_vals\u001b[49m\u001b[43m,\u001b[49m\n\u001b[1;32m   1228\u001b[0m \u001b[43m                    \u001b[49m\u001b[43mcond_nconsts\u001b[49m\u001b[38;5;241;43m=\u001b[39;49m\u001b[38;5;28;43mlen\u001b[39;49m\u001b[43m(\u001b[49m\u001b[43mcond_consts\u001b[49m\u001b[43m)\u001b[49m\u001b[43m,\u001b[49m\u001b[43m \u001b[49m\u001b[43mcond_jaxpr\u001b[49m\u001b[38;5;241;43m=\u001b[39;49m\u001b[43mcond_jaxpr\u001b[49m\u001b[43m,\u001b[49m\n\u001b[1;32m   1229\u001b[0m \u001b[43m                    \u001b[49m\u001b[43mbody_nconsts\u001b[49m\u001b[38;5;241;43m=\u001b[39;49m\u001b[38;5;28;43mlen\u001b[39;49m\u001b[43m(\u001b[49m\u001b[43mbody_consts\u001b[49m\u001b[43m)\u001b[49m\u001b[43m,\u001b[49m\u001b[43m \u001b[49m\u001b[43mbody_jaxpr\u001b[49m\u001b[38;5;241;43m=\u001b[39;49m\u001b[43mbody_jaxpr\u001b[49m\u001b[43m)\u001b[49m\n\u001b[1;32m   1230\u001b[0m \u001b[38;5;28;01mreturn\u001b[39;00m tree_unflatten(body_tree, outs)\n",
      "File \u001b[0;32m~/micromamba/envs/torch/lib/python3.11/site-packages/jax/_src/core.py:2596\u001b[0m, in \u001b[0;36mAxisPrimitive.bind\u001b[0;34m(self, *args, **params)\u001b[0m\n\u001b[1;32m   2592\u001b[0m axis_main \u001b[38;5;241m=\u001b[39m \u001b[38;5;28mmax\u001b[39m((axis_frame(a)\u001b[38;5;241m.\u001b[39mmain_trace \u001b[38;5;28;01mfor\u001b[39;00m a \u001b[38;5;129;01min\u001b[39;00m used_axis_names(\u001b[38;5;28mself\u001b[39m, params)),\n\u001b[1;32m   2593\u001b[0m                 default\u001b[38;5;241m=\u001b[39m\u001b[38;5;28;01mNone\u001b[39;00m, key\u001b[38;5;241m=\u001b[39m\u001b[38;5;28;01mlambda\u001b[39;00m t: \u001b[38;5;28mgetattr\u001b[39m(t, \u001b[38;5;124m'\u001b[39m\u001b[38;5;124mlevel\u001b[39m\u001b[38;5;124m'\u001b[39m, \u001b[38;5;241m-\u001b[39m\u001b[38;5;241m1\u001b[39m))\n\u001b[1;32m   2594\u001b[0m top_trace \u001b[38;5;241m=\u001b[39m (top_trace \u001b[38;5;28;01mif\u001b[39;00m \u001b[38;5;129;01mnot\u001b[39;00m axis_main \u001b[38;5;129;01mor\u001b[39;00m axis_main\u001b[38;5;241m.\u001b[39mlevel \u001b[38;5;241m<\u001b[39m top_trace\u001b[38;5;241m.\u001b[39mlevel\n\u001b[1;32m   2595\u001b[0m              \u001b[38;5;28;01melse\u001b[39;00m axis_main\u001b[38;5;241m.\u001b[39mwith_cur_sublevel())\n\u001b[0;32m-> 2596\u001b[0m \u001b[38;5;28;01mreturn\u001b[39;00m \u001b[38;5;28;43mself\u001b[39;49m\u001b[38;5;241;43m.\u001b[39;49m\u001b[43mbind_with_trace\u001b[49m\u001b[43m(\u001b[49m\u001b[43mtop_trace\u001b[49m\u001b[43m,\u001b[49m\u001b[43m \u001b[49m\u001b[43margs\u001b[49m\u001b[43m,\u001b[49m\u001b[43m \u001b[49m\u001b[43mparams\u001b[49m\u001b[43m)\u001b[49m\n",
      "File \u001b[0;32m~/micromamba/envs/torch/lib/python3.11/site-packages/jax/_src/core.py:389\u001b[0m, in \u001b[0;36mPrimitive.bind_with_trace\u001b[0;34m(self, trace, args, params)\u001b[0m\n\u001b[1;32m    388\u001b[0m \u001b[38;5;28;01mdef\u001b[39;00m \u001b[38;5;21mbind_with_trace\u001b[39m(\u001b[38;5;28mself\u001b[39m, trace, args, params):\n\u001b[0;32m--> 389\u001b[0m   out \u001b[38;5;241m=\u001b[39m \u001b[43mtrace\u001b[49m\u001b[38;5;241;43m.\u001b[39;49m\u001b[43mprocess_primitive\u001b[49m\u001b[43m(\u001b[49m\u001b[38;5;28;43mself\u001b[39;49m\u001b[43m,\u001b[49m\u001b[43m \u001b[49m\u001b[38;5;28;43mmap\u001b[39;49m\u001b[43m(\u001b[49m\u001b[43mtrace\u001b[49m\u001b[38;5;241;43m.\u001b[39;49m\u001b[43mfull_raise\u001b[49m\u001b[43m,\u001b[49m\u001b[43m \u001b[49m\u001b[43margs\u001b[49m\u001b[43m)\u001b[49m\u001b[43m,\u001b[49m\u001b[43m \u001b[49m\u001b[43mparams\u001b[49m\u001b[43m)\u001b[49m\n\u001b[1;32m    390\u001b[0m   \u001b[38;5;28;01mreturn\u001b[39;00m \u001b[38;5;28mmap\u001b[39m(full_lower, out) \u001b[38;5;28;01mif\u001b[39;00m \u001b[38;5;28mself\u001b[39m\u001b[38;5;241m.\u001b[39mmultiple_results \u001b[38;5;28;01melse\u001b[39;00m full_lower(out)\n",
      "File \u001b[0;32m~/micromamba/envs/torch/lib/python3.11/site-packages/jax/_src/core.py:821\u001b[0m, in \u001b[0;36mEvalTrace.process_primitive\u001b[0;34m(self, primitive, tracers, params)\u001b[0m\n\u001b[1;32m    820\u001b[0m \u001b[38;5;28;01mdef\u001b[39;00m \u001b[38;5;21mprocess_primitive\u001b[39m(\u001b[38;5;28mself\u001b[39m, primitive, tracers, params):\n\u001b[0;32m--> 821\u001b[0m   \u001b[38;5;28;01mreturn\u001b[39;00m \u001b[43mprimitive\u001b[49m\u001b[38;5;241;43m.\u001b[39;49m\u001b[43mimpl\u001b[49m\u001b[43m(\u001b[49m\u001b[38;5;241;43m*\u001b[39;49m\u001b[43mtracers\u001b[49m\u001b[43m,\u001b[49m\u001b[43m \u001b[49m\u001b[38;5;241;43m*\u001b[39;49m\u001b[38;5;241;43m*\u001b[39;49m\u001b[43mparams\u001b[49m\u001b[43m)\u001b[49m\n",
      "File \u001b[0;32m~/micromamba/envs/torch/lib/python3.11/site-packages/jax/_src/dispatch.py:131\u001b[0m, in \u001b[0;36mapply_primitive\u001b[0;34m(prim, *args, **params)\u001b[0m\n\u001b[1;32m    129\u001b[0m \u001b[38;5;28;01mtry\u001b[39;00m:\n\u001b[1;32m    130\u001b[0m   in_avals, in_shardings \u001b[38;5;241m=\u001b[39m util\u001b[38;5;241m.\u001b[39munzip2([arg_spec(a) \u001b[38;5;28;01mfor\u001b[39;00m a \u001b[38;5;129;01min\u001b[39;00m args])\n\u001b[0;32m--> 131\u001b[0m   compiled_fun \u001b[38;5;241m=\u001b[39m \u001b[43mxla_primitive_callable\u001b[49m\u001b[43m(\u001b[49m\n\u001b[1;32m    132\u001b[0m \u001b[43m      \u001b[49m\u001b[43mprim\u001b[49m\u001b[43m,\u001b[49m\u001b[43m \u001b[49m\u001b[43min_avals\u001b[49m\u001b[43m,\u001b[49m\u001b[43m \u001b[49m\u001b[43mOrigShardings\u001b[49m\u001b[43m(\u001b[49m\u001b[43min_shardings\u001b[49m\u001b[43m)\u001b[49m\u001b[43m,\u001b[49m\u001b[43m \u001b[49m\u001b[38;5;241;43m*\u001b[39;49m\u001b[38;5;241;43m*\u001b[39;49m\u001b[43mparams\u001b[49m\u001b[43m)\u001b[49m\n\u001b[1;32m    133\u001b[0m \u001b[38;5;28;01mexcept\u001b[39;00m pxla\u001b[38;5;241m.\u001b[39mDeviceAssignmentMismatchError \u001b[38;5;28;01mas\u001b[39;00m e:\n\u001b[1;32m    134\u001b[0m   fails, \u001b[38;5;241m=\u001b[39m e\u001b[38;5;241m.\u001b[39margs\n",
      "File \u001b[0;32m~/micromamba/envs/torch/lib/python3.11/site-packages/jax/_src/util.py:263\u001b[0m, in \u001b[0;36mcache.<locals>.wrap.<locals>.wrapper\u001b[0;34m(*args, **kwargs)\u001b[0m\n\u001b[1;32m    261\u001b[0m   \u001b[38;5;28;01mreturn\u001b[39;00m f(\u001b[38;5;241m*\u001b[39margs, \u001b[38;5;241m*\u001b[39m\u001b[38;5;241m*\u001b[39mkwargs)\n\u001b[1;32m    262\u001b[0m \u001b[38;5;28;01melse\u001b[39;00m:\n\u001b[0;32m--> 263\u001b[0m   \u001b[38;5;28;01mreturn\u001b[39;00m \u001b[43mcached\u001b[49m\u001b[43m(\u001b[49m\u001b[43mconfig\u001b[49m\u001b[38;5;241;43m.\u001b[39;49m\u001b[43m_trace_context\u001b[49m\u001b[43m(\u001b[49m\u001b[43m)\u001b[49m\u001b[43m,\u001b[49m\u001b[43m \u001b[49m\u001b[38;5;241;43m*\u001b[39;49m\u001b[43margs\u001b[49m\u001b[43m,\u001b[49m\u001b[43m \u001b[49m\u001b[38;5;241;43m*\u001b[39;49m\u001b[38;5;241;43m*\u001b[39;49m\u001b[43mkwargs\u001b[49m\u001b[43m)\u001b[49m\n",
      "File \u001b[0;32m~/micromamba/envs/torch/lib/python3.11/site-packages/jax/_src/util.py:256\u001b[0m, in \u001b[0;36mcache.<locals>.wrap.<locals>.cached\u001b[0;34m(_, *args, **kwargs)\u001b[0m\n\u001b[1;32m    254\u001b[0m \u001b[38;5;129m@functools\u001b[39m\u001b[38;5;241m.\u001b[39mlru_cache(max_size)\n\u001b[1;32m    255\u001b[0m \u001b[38;5;28;01mdef\u001b[39;00m \u001b[38;5;21mcached\u001b[39m(_, \u001b[38;5;241m*\u001b[39margs, \u001b[38;5;241m*\u001b[39m\u001b[38;5;241m*\u001b[39mkwargs):\n\u001b[0;32m--> 256\u001b[0m   \u001b[38;5;28;01mreturn\u001b[39;00m \u001b[43mf\u001b[49m\u001b[43m(\u001b[49m\u001b[38;5;241;43m*\u001b[39;49m\u001b[43margs\u001b[49m\u001b[43m,\u001b[49m\u001b[43m \u001b[49m\u001b[38;5;241;43m*\u001b[39;49m\u001b[38;5;241;43m*\u001b[39;49m\u001b[43mkwargs\u001b[49m\u001b[43m)\u001b[49m\n",
      "File \u001b[0;32m~/micromamba/envs/torch/lib/python3.11/site-packages/jax/_src/dispatch.py:222\u001b[0m, in \u001b[0;36mxla_primitive_callable\u001b[0;34m(prim, in_avals, orig_in_shardings, **params)\u001b[0m\n\u001b[1;32m    220\u001b[0m     \u001b[38;5;28;01mreturn\u001b[39;00m out,\n\u001b[1;32m    221\u001b[0m donated_invars \u001b[38;5;241m=\u001b[39m (\u001b[38;5;28;01mFalse\u001b[39;00m,) \u001b[38;5;241m*\u001b[39m \u001b[38;5;28mlen\u001b[39m(in_avals)\n\u001b[0;32m--> 222\u001b[0m compiled \u001b[38;5;241m=\u001b[39m \u001b[43m_xla_callable_uncached\u001b[49m\u001b[43m(\u001b[49m\n\u001b[1;32m    223\u001b[0m \u001b[43m    \u001b[49m\u001b[43mlu\u001b[49m\u001b[38;5;241;43m.\u001b[39;49m\u001b[43mwrap_init\u001b[49m\u001b[43m(\u001b[49m\u001b[43mprim_fun\u001b[49m\u001b[43m)\u001b[49m\u001b[43m,\u001b[49m\u001b[43m \u001b[49m\u001b[43mprim\u001b[49m\u001b[38;5;241;43m.\u001b[39;49m\u001b[43mname\u001b[49m\u001b[43m,\u001b[49m\u001b[43m \u001b[49m\u001b[43mdonated_invars\u001b[49m\u001b[43m,\u001b[49m\u001b[43m \u001b[49m\u001b[38;5;28;43;01mFalse\u001b[39;49;00m\u001b[43m,\u001b[49m\u001b[43m \u001b[49m\u001b[43min_avals\u001b[49m\u001b[43m,\u001b[49m\n\u001b[1;32m    224\u001b[0m \u001b[43m    \u001b[49m\u001b[43morig_in_shardings\u001b[49m\u001b[43m)\u001b[49m\n\u001b[1;32m    225\u001b[0m \u001b[38;5;28;01mif\u001b[39;00m \u001b[38;5;129;01mnot\u001b[39;00m prim\u001b[38;5;241m.\u001b[39mmultiple_results:\n\u001b[1;32m    226\u001b[0m   \u001b[38;5;28;01mreturn\u001b[39;00m \u001b[38;5;28;01mlambda\u001b[39;00m \u001b[38;5;241m*\u001b[39margs, \u001b[38;5;241m*\u001b[39m\u001b[38;5;241m*\u001b[39mkw: compiled(\u001b[38;5;241m*\u001b[39margs, \u001b[38;5;241m*\u001b[39m\u001b[38;5;241m*\u001b[39mkw)[\u001b[38;5;241m0\u001b[39m]\n",
      "File \u001b[0;32m~/micromamba/envs/torch/lib/python3.11/site-packages/jax/_src/dispatch.py:252\u001b[0m, in \u001b[0;36m_xla_callable_uncached\u001b[0;34m(fun, name, donated_invars, keep_unused, in_avals, orig_in_shardings)\u001b[0m\n\u001b[1;32m    247\u001b[0m \u001b[38;5;28;01mdef\u001b[39;00m \u001b[38;5;21m_xla_callable_uncached\u001b[39m(fun: lu\u001b[38;5;241m.\u001b[39mWrappedFun, name, donated_invars,\n\u001b[1;32m    248\u001b[0m                            keep_unused, in_avals, orig_in_shardings):\n\u001b[1;32m    249\u001b[0m   computation \u001b[38;5;241m=\u001b[39m sharded_lowering(\n\u001b[1;32m    250\u001b[0m       fun, name, donated_invars, keep_unused, \u001b[38;5;28;01mTrue\u001b[39;00m, in_avals, orig_in_shardings,\n\u001b[1;32m    251\u001b[0m       lowering_platform\u001b[38;5;241m=\u001b[39m\u001b[38;5;28;01mNone\u001b[39;00m)\n\u001b[0;32m--> 252\u001b[0m   \u001b[38;5;28;01mreturn\u001b[39;00m \u001b[43mcomputation\u001b[49m\u001b[38;5;241;43m.\u001b[39;49m\u001b[43mcompile\u001b[49m\u001b[43m(\u001b[49m\u001b[43m)\u001b[49m\u001b[38;5;241m.\u001b[39munsafe_call\n",
      "File \u001b[0;32m~/micromamba/envs/torch/lib/python3.11/site-packages/jax/_src/interpreters/pxla.py:2206\u001b[0m, in \u001b[0;36mMeshComputation.compile\u001b[0;34m(self, compiler_options)\u001b[0m\n\u001b[1;32m   2203\u001b[0m   executable \u001b[38;5;241m=\u001b[39m MeshExecutable\u001b[38;5;241m.\u001b[39mfrom_trivial_jaxpr(\n\u001b[1;32m   2204\u001b[0m       \u001b[38;5;241m*\u001b[39m\u001b[38;5;241m*\u001b[39m\u001b[38;5;28mself\u001b[39m\u001b[38;5;241m.\u001b[39mcompile_args)\n\u001b[1;32m   2205\u001b[0m \u001b[38;5;28;01melse\u001b[39;00m:\n\u001b[0;32m-> 2206\u001b[0m   executable \u001b[38;5;241m=\u001b[39m \u001b[43mUnloadedMeshExecutable\u001b[49m\u001b[38;5;241;43m.\u001b[39;49m\u001b[43mfrom_hlo\u001b[49m\u001b[43m(\u001b[49m\n\u001b[1;32m   2207\u001b[0m \u001b[43m      \u001b[49m\u001b[38;5;28;43mself\u001b[39;49m\u001b[38;5;241;43m.\u001b[39;49m\u001b[43m_name\u001b[49m\u001b[43m,\u001b[49m\n\u001b[1;32m   2208\u001b[0m \u001b[43m      \u001b[49m\u001b[38;5;28;43mself\u001b[39;49m\u001b[38;5;241;43m.\u001b[39;49m\u001b[43m_hlo\u001b[49m\u001b[43m,\u001b[49m\n\u001b[1;32m   2209\u001b[0m \u001b[43m      \u001b[49m\u001b[38;5;241;43m*\u001b[39;49m\u001b[38;5;241;43m*\u001b[39;49m\u001b[38;5;28;43mself\u001b[39;49m\u001b[38;5;241;43m.\u001b[39;49m\u001b[43mcompile_args\u001b[49m\u001b[43m,\u001b[49m\n\u001b[1;32m   2210\u001b[0m \u001b[43m      \u001b[49m\u001b[43mcompiler_options\u001b[49m\u001b[38;5;241;43m=\u001b[39;49m\u001b[43mcompiler_options\u001b[49m\u001b[43m)\u001b[49m\n\u001b[1;32m   2211\u001b[0m \u001b[38;5;28;01mif\u001b[39;00m compiler_options \u001b[38;5;129;01mis\u001b[39;00m \u001b[38;5;28;01mNone\u001b[39;00m:\n\u001b[1;32m   2212\u001b[0m   \u001b[38;5;28mself\u001b[39m\u001b[38;5;241m.\u001b[39m_executable \u001b[38;5;241m=\u001b[39m executable\n",
      "File \u001b[0;32m~/micromamba/envs/torch/lib/python3.11/site-packages/jax/_src/interpreters/pxla.py:2544\u001b[0m, in \u001b[0;36mUnloadedMeshExecutable.from_hlo\u001b[0;34m(***failed resolving arguments***)\u001b[0m\n\u001b[1;32m   2541\u001b[0m       mesh \u001b[38;5;241m=\u001b[39m i\u001b[38;5;241m.\u001b[39mmesh  \u001b[38;5;66;03m# type: ignore\u001b[39;00m\n\u001b[1;32m   2542\u001b[0m       \u001b[38;5;28;01mbreak\u001b[39;00m\n\u001b[0;32m-> 2544\u001b[0m xla_executable, compile_options \u001b[38;5;241m=\u001b[39m \u001b[43m_cached_compilation\u001b[49m\u001b[43m(\u001b[49m\n\u001b[1;32m   2545\u001b[0m \u001b[43m    \u001b[49m\u001b[43mhlo\u001b[49m\u001b[43m,\u001b[49m\u001b[43m \u001b[49m\u001b[43mname\u001b[49m\u001b[43m,\u001b[49m\u001b[43m \u001b[49m\u001b[43mmesh\u001b[49m\u001b[43m,\u001b[49m\u001b[43m \u001b[49m\u001b[43mspmd_lowering\u001b[49m\u001b[43m,\u001b[49m\n\u001b[1;32m   2546\u001b[0m \u001b[43m    \u001b[49m\u001b[43mtuple_args\u001b[49m\u001b[43m,\u001b[49m\u001b[43m \u001b[49m\u001b[43mauto_spmd_lowering\u001b[49m\u001b[43m,\u001b[49m\u001b[43m \u001b[49m\u001b[43mallow_prop_to_outputs\u001b[49m\u001b[43m,\u001b[49m\n\u001b[1;32m   2547\u001b[0m \u001b[43m    \u001b[49m\u001b[38;5;28;43mtuple\u001b[39;49m\u001b[43m(\u001b[49m\u001b[43mhost_callbacks\u001b[49m\u001b[43m)\u001b[49m\u001b[43m,\u001b[49m\u001b[43m \u001b[49m\u001b[43mbackend\u001b[49m\u001b[43m,\u001b[49m\u001b[43m \u001b[49m\u001b[43mda\u001b[49m\u001b[43m,\u001b[49m\u001b[43m \u001b[49m\u001b[43mpmap_nreps\u001b[49m\u001b[43m,\u001b[49m\n\u001b[1;32m   2548\u001b[0m \u001b[43m    \u001b[49m\u001b[43mcompiler_options_keys\u001b[49m\u001b[43m,\u001b[49m\u001b[43m \u001b[49m\u001b[43mcompiler_options_values\u001b[49m\u001b[43m)\u001b[49m\n\u001b[1;32m   2550\u001b[0m \u001b[38;5;28;01mif\u001b[39;00m \u001b[38;5;28mhasattr\u001b[39m(backend, \u001b[38;5;124m\"\u001b[39m\u001b[38;5;124mcompile_replicated\u001b[39m\u001b[38;5;124m\"\u001b[39m):\n\u001b[1;32m   2551\u001b[0m   semantics_in_shardings \u001b[38;5;241m=\u001b[39m SemanticallyEqualShardings(in_shardings)  \u001b[38;5;66;03m# type: ignore\u001b[39;00m\n",
      "File \u001b[0;32m~/micromamba/envs/torch/lib/python3.11/site-packages/jax/_src/interpreters/pxla.py:2454\u001b[0m, in \u001b[0;36m_cached_compilation\u001b[0;34m(computation, name, mesh, spmd_lowering, tuple_args, auto_spmd_lowering, _allow_propagation_to_outputs, host_callbacks, backend, da, pmap_nreps, compiler_options_keys, compiler_options_values)\u001b[0m\n\u001b[1;32m   2449\u001b[0m   \u001b[38;5;28;01mreturn\u001b[39;00m \u001b[38;5;28;01mNone\u001b[39;00m, compile_options\n\u001b[1;32m   2451\u001b[0m \u001b[38;5;28;01mwith\u001b[39;00m dispatch\u001b[38;5;241m.\u001b[39mlog_elapsed_time(\n\u001b[1;32m   2452\u001b[0m     \u001b[38;5;124m\"\u001b[39m\u001b[38;5;124mFinished XLA compilation of \u001b[39m\u001b[38;5;132;01m{fun_name}\u001b[39;00m\u001b[38;5;124m in \u001b[39m\u001b[38;5;132;01m{elapsed_time}\u001b[39;00m\u001b[38;5;124m sec\u001b[39m\u001b[38;5;124m\"\u001b[39m,\n\u001b[1;32m   2453\u001b[0m     fun_name\u001b[38;5;241m=\u001b[39mname, event\u001b[38;5;241m=\u001b[39mdispatch\u001b[38;5;241m.\u001b[39mBACKEND_COMPILE_EVENT):\n\u001b[0;32m-> 2454\u001b[0m   xla_executable \u001b[38;5;241m=\u001b[39m \u001b[43mdispatch\u001b[49m\u001b[38;5;241;43m.\u001b[39;49m\u001b[43mcompile_or_get_cached\u001b[49m\u001b[43m(\u001b[49m\n\u001b[1;32m   2455\u001b[0m \u001b[43m      \u001b[49m\u001b[43mbackend\u001b[49m\u001b[43m,\u001b[49m\u001b[43m \u001b[49m\u001b[43mcomputation\u001b[49m\u001b[43m,\u001b[49m\u001b[43m \u001b[49m\u001b[43mdev\u001b[49m\u001b[43m,\u001b[49m\u001b[43m \u001b[49m\u001b[43mcompile_options\u001b[49m\u001b[43m,\u001b[49m\u001b[43m \u001b[49m\u001b[43mhost_callbacks\u001b[49m\u001b[43m)\u001b[49m\n\u001b[1;32m   2456\u001b[0m \u001b[38;5;28;01mreturn\u001b[39;00m xla_executable, compile_options\n",
      "File \u001b[0;32m~/micromamba/envs/torch/lib/python3.11/site-packages/jax/_src/dispatch.py:496\u001b[0m, in \u001b[0;36mcompile_or_get_cached\u001b[0;34m(backend, computation, devices, compile_options, host_callbacks)\u001b[0m\n\u001b[1;32m    492\u001b[0m use_compilation_cache \u001b[38;5;241m=\u001b[39m (compilation_cache\u001b[38;5;241m.\u001b[39mis_initialized() \u001b[38;5;129;01mand\u001b[39;00m\n\u001b[1;32m    493\u001b[0m                          backend\u001b[38;5;241m.\u001b[39mplatform \u001b[38;5;129;01min\u001b[39;00m supported_platforms)\n\u001b[1;32m    495\u001b[0m \u001b[38;5;28;01mif\u001b[39;00m \u001b[38;5;129;01mnot\u001b[39;00m use_compilation_cache:\n\u001b[0;32m--> 496\u001b[0m   \u001b[38;5;28;01mreturn\u001b[39;00m \u001b[43mbackend_compile\u001b[49m\u001b[43m(\u001b[49m\u001b[43mbackend\u001b[49m\u001b[43m,\u001b[49m\u001b[43m \u001b[49m\u001b[43mcomputation\u001b[49m\u001b[43m,\u001b[49m\u001b[43m \u001b[49m\u001b[43mcompile_options\u001b[49m\u001b[43m,\u001b[49m\n\u001b[1;32m    497\u001b[0m \u001b[43m                         \u001b[49m\u001b[43mhost_callbacks\u001b[49m\u001b[43m)\u001b[49m\n\u001b[1;32m    499\u001b[0m cache_key \u001b[38;5;241m=\u001b[39m compilation_cache\u001b[38;5;241m.\u001b[39mget_cache_key(\n\u001b[1;32m    500\u001b[0m     computation, devices, compile_options, backend)\n\u001b[1;32m    502\u001b[0m executable, compile_time_retrieved \u001b[38;5;241m=\u001b[39m _cache_read(\n\u001b[1;32m    503\u001b[0m     module_name, cache_key, compile_options, backend)\n",
      "File \u001b[0;32m~/micromamba/envs/torch/lib/python3.11/site-packages/jax/_src/profiler.py:314\u001b[0m, in \u001b[0;36mannotate_function.<locals>.wrapper\u001b[0;34m(*args, **kwargs)\u001b[0m\n\u001b[1;32m    311\u001b[0m \u001b[38;5;129m@wraps\u001b[39m(func)\n\u001b[1;32m    312\u001b[0m \u001b[38;5;28;01mdef\u001b[39;00m \u001b[38;5;21mwrapper\u001b[39m(\u001b[38;5;241m*\u001b[39margs, \u001b[38;5;241m*\u001b[39m\u001b[38;5;241m*\u001b[39mkwargs):\n\u001b[1;32m    313\u001b[0m   \u001b[38;5;28;01mwith\u001b[39;00m TraceAnnotation(name, \u001b[38;5;241m*\u001b[39m\u001b[38;5;241m*\u001b[39mdecorator_kwargs):\n\u001b[0;32m--> 314\u001b[0m     \u001b[38;5;28;01mreturn\u001b[39;00m \u001b[43mfunc\u001b[49m\u001b[43m(\u001b[49m\u001b[38;5;241;43m*\u001b[39;49m\u001b[43margs\u001b[49m\u001b[43m,\u001b[49m\u001b[43m \u001b[49m\u001b[38;5;241;43m*\u001b[39;49m\u001b[38;5;241;43m*\u001b[39;49m\u001b[43mkwargs\u001b[49m\u001b[43m)\u001b[49m\n\u001b[1;32m    315\u001b[0m   \u001b[38;5;28;01mreturn\u001b[39;00m wrapper\n",
      "File \u001b[0;32m~/micromamba/envs/torch/lib/python3.11/site-packages/jax/_src/dispatch.py:464\u001b[0m, in \u001b[0;36mbackend_compile\u001b[0;34m(backend, module, options, host_callbacks)\u001b[0m\n\u001b[1;32m    459\u001b[0m   \u001b[38;5;28;01mreturn\u001b[39;00m backend\u001b[38;5;241m.\u001b[39mcompile(built_c, compile_options\u001b[38;5;241m=\u001b[39moptions,\n\u001b[1;32m    460\u001b[0m                          host_callbacks\u001b[38;5;241m=\u001b[39mhost_callbacks)\n\u001b[1;32m    461\u001b[0m \u001b[38;5;66;03m# Some backends don't have `host_callbacks` option yet\u001b[39;00m\n\u001b[1;32m    462\u001b[0m \u001b[38;5;66;03m# TODO(sharadmv): remove this fallback when all backends allow `compile`\u001b[39;00m\n\u001b[1;32m    463\u001b[0m \u001b[38;5;66;03m# to take in `host_callbacks`\u001b[39;00m\n\u001b[0;32m--> 464\u001b[0m \u001b[38;5;28;01mreturn\u001b[39;00m \u001b[43mbackend\u001b[49m\u001b[38;5;241;43m.\u001b[39;49m\u001b[43mcompile\u001b[49m\u001b[43m(\u001b[49m\u001b[43mbuilt_c\u001b[49m\u001b[43m,\u001b[49m\u001b[43m \u001b[49m\u001b[43mcompile_options\u001b[49m\u001b[38;5;241;43m=\u001b[39;49m\u001b[43moptions\u001b[49m\u001b[43m)\u001b[49m\n",
      "\u001b[0;31mKeyboardInterrupt\u001b[0m: "
     ]
    }
   ],
   "source": [
    "x = model.get_init_samples(sample_init_rng, n_chains)\n",
    "xd, xc = model.separate_sample(x)\n",
    "sampler_state = sampler.make_init_state(sampler_init_rng, xd, xc)\n",
    "samples = []\n",
    "\n",
    "for idx in tqdm(range(burnin + chain_length)):\n",
    "    step_rng_, step_rng = jax.random.split(step_rng, 2)\n",
    "    xd, xc, sampler_state = sampler.step(model, step_rng_, xd, xc, model_params, sampler_state)\n",
    "    if idx > burnin:\n",
    "        samples.append((xd, xc))"
   ]
  },
  {
   "cell_type": "code",
   "execution_count": null,
   "metadata": {},
   "outputs": [],
   "source": [
    "# Simplest test one can engineer - do we recover the right\n",
    "# expected values from the samples?"
   ]
  },
  {
   "cell_type": "code",
   "execution_count": null,
   "metadata": {},
   "outputs": [],
   "source": [
    "# How to test convergence to the right distribution? Try a histogram\n",
    "# test (i.e. chi squared). Keep the dimensionality of the problem \n",
    "# low...\n",
    "\n",
    "# Before we even get quantitiative, if we can manage to sample\n",
    "# from the ground truth distribution, we could always just \n",
    "# inspect the marginal histograms..."
   ]
  },
  {
   "cell_type": "code",
   "execution_count": null,
   "metadata": {},
   "outputs": [],
   "source": [
    "# Open question: How does one calculate the effective sample size\n",
    "# of a distribution with mixed support? We could just go ahead\n",
    "# and calculate it anyways"
   ]
  }
 ],
 "metadata": {
  "kernelspec": {
   "display_name": "Python 3",
   "language": "python",
   "name": "python3"
  },
  "language_info": {
   "codemirror_mode": {
    "name": "ipython",
    "version": 3
   },
   "file_extension": ".py",
   "mimetype": "text/x-python",
   "name": "python",
   "nbconvert_exporter": "python",
   "pygments_lexer": "ipython3",
   "version": "3.11.6"
  }
 },
 "nbformat": 4,
 "nbformat_minor": 2
}
